{
  "metadata": {
    "kernelspec": {
      "display_name": "Python (env py36_pytorch)",
      "name": "py-dku-venv-py36_pytorch",
      "language": "python"
    },
    "language_info": {
      "mimetype": "text/x-python",
      "nbconvert_exporter": "python",
      "version": "3.6.15",
      "name": "python",
      "pygments_lexer": "ipython3",
      "file_extension": ".py",
      "codemirror_mode": {
        "version": 3,
        "name": "ipython"
      }
    },
    "creator": "admin",
    "createdOn": 1655405982853,
    "hide_input": false,
    "modifiedBy": "admin",
    "customFields": {},
    "tags": []
  },
  "nbformat": 4,
  "nbformat_minor": 1,
  "cells": [
    {
      "cell_type": "markdown",
      "metadata": {},
      "source": [
        "## Graphical Neural Networks: Graph Classification (Part III)\n\n\u003e ### When It Comes to Labeling Not Just Nodes but Whole Graphs\n\u003e - Author: Lina Faik\n\u003e - Date: August 2022\n\u003e\n\u003e This notebook is the support that was used to write the article *Graphical Neural Networks: Graph Classification (Part III)* in Medium.\n\u003e It contains all the experiments and the results obtained when testing GNN models.\n\u003e For more information, you can find the article [here](https://linafaik.medium.com/)."
      ]
    },
    {
      "cell_type": "markdown",
      "metadata": {},
      "source": [
        "### Table of contents\n1. [About the Dataset](#section1)   \n 1.1. [Global statistics](#section11)  \n 1.2. [Visualization of the molecules](#section12)  \n 1.3. [Feature engineering](#section13)  \n2. [Graph-Based Modeling](#section2)  \n 2.1. [Training a first model](#section21)  \n 2.2. [Testing different model hyperparameters for one target](#section22)  \n 2.3. [Tuning model hyperparameters for all targets](#section23)  \n3. [Explainability](#section3) "
      ]
    },
    {
      "cell_type": "markdown",
      "metadata": {},
      "source": [
        "## 1. About the Dataset \u003ca class\u003d\"anchor\" id\u003d\"section1\"\u003e\u003c/a\u003e\n- **Source**: The dataset comes from [MoleculeNet](https://moleculenet.org/datasets-1) (Tox-21) with node and edge enrichment introduced by the [Open Graph Benchmark](https://ogb.stanford.edu/).\n- **Description**: The dataset used contains 7 831 molecules. Each molecule is converted into a graph by representing atoms by nodes and replacing the bonds by edges.  These nodes and edges are further enriched with various features to avoid losing valuable information such as the name of the atom or the type of bond. In total, input node features are 9-dimensional and edge features 3-dimensional.\n- **Task**: Predict whether a molecule is toxic or not."
      ]
    },
    {
      "cell_type": "markdown",
      "metadata": {},
      "source": [
        "### 1.1. Global statistics \u003ca class\u003d\"anchor\" id\u003d\"section11\"\u003e\u003c/a\u003e"
      ]
    },
    {
      "execution_count": 144,
      "cell_type": "code",
      "metadata": {},
      "source": [
        "# Import libraries\n\nimport dataiku\nimport pandas as pd, numpy as np\nfrom dataiku import pandasutils as pdu\nfrom dataiku import insights\nfrom itertools import product\nimport io, os, json\n\nimport time\n\nimport py3Dmol\nfrom rdkit import Chem\n\nimport plotly.io as pio\nimport plotly.express as px\nimport plotly.graph_objects as go\nfrom plotly.subplots import make_subplots\npio.templates.default \u003d \"plotly_white\"\n\nimport torch\nimport torch.nn.functional as F\nimport torch_geometric.transforms as T\nfrom torch_geometric.datasets import MoleculeNet\nfrom torch_geometric.nn import to_hetero\nfrom torch_geometric.nn import HeteroConv, GCNConv, SAGEConv, GATConv, Linear\nfrom sklearn.metrics import mean_squared_error, accuracy_score\nfrom sklearn import metrics\n\n%matplotlib inline"
      ],
      "outputs": []
    },
    {
      "execution_count": 0,
      "cell_type": "code",
      "metadata": {
        "scrolled": true
      },
      "source": [
        "# Load dataset\n\nfolder \u003d dataiku.Folder(\"ltkCFtt0\")\ndataset \u003d MoleculeNet(\n    root\u003d os.path.join(folder.get_path(),\u0027molecules_Tox21\u0027), \n    name\u003d\"Tox21\"\n)"
      ],
      "outputs": []
    },
    {
      "execution_count": 147,
      "cell_type": "code",
      "metadata": {},
      "source": [
        "dataset \u003d dataset.copy()"
      ],
      "outputs": []
    },
    {
      "execution_count": 148,
      "cell_type": "code",
      "metadata": {},
      "source": [
        "print()\nprint(f\u0027Dataset: {dataset}:\u0027)\nprint(\u0027\u003d\u003d\u003d\u003d\u003d\u003d\u003d\u003d\u003d\u003d\u003d\u003d\u003d\u003d\u003d\u003d\u003d\u003d\u003d\u003d\u0027)\nprint(f\u0027Number of graphs: {len(dataset)}\u0027)\nprint(f\u0027Number of features: {dataset.num_features}\u0027)\nprint(f\u0027Number of classes: {dataset.num_classes}\u0027)\n\ndata \u003d dataset[0]  # Get the first graph object.\n\nprint()\nprint(data)\nprint(\u0027\u003d\u003d\u003d\u003d\u003d\u003d\u003d\u003d\u003d\u003d\u003d\u003d\u003d\u003d\u003d\u003d\u003d\u003d\u003d\u003d\u003d\u003d\u003d\u003d\u003d\u003d\u003d\u003d\u003d\u003d\u003d\u003d\u003d\u003d\u003d\u003d\u003d\u003d\u003d\u003d\u003d\u003d\u003d\u003d\u003d\u003d\u003d\u003d\u003d\u003d\u003d\u003d\u003d\u003d\u003d\u003d\u003d\u003d\u003d\u003d\u003d\u0027)\n\n# Gather some statistics about the first graph.\nprint(f\u0027Number of nodes: {data.num_nodes}\u0027)\nprint(f\u0027Number of edges: {data.num_edges}\u0027)\nprint(f\u0027Average node degree: {data.num_edges / data.num_nodes:.2f}\u0027)\nprint(f\u0027Has isolated nodes: {data.has_isolated_nodes()}\u0027)\nprint(f\u0027Has self-loops: {data.has_self_loops()}\u0027)\nprint(f\u0027Is undirected: {data.is_undirected()}\u0027)"
      ],
      "outputs": [
        {
          "output_type": "stream",
          "name": "stdout",
          "text": "\nDataset: Tox21(7831):\n\u003d\u003d\u003d\u003d\u003d\u003d\u003d\u003d\u003d\u003d\u003d\u003d\u003d\u003d\u003d\u003d\u003d\u003d\u003d\u003d\nNumber of graphs: 7831\nNumber of features: 9\nNumber of classes: 12\n\nData(x\u003d[16, 9], edge_index\u003d[2, 34], edge_attr\u003d[34, 3], y\u003d[1, 12], smiles\u003d\u0027CCOc1ccc2nc(S(N)(\u003dO)\u003dO)sc2c1\u0027)\n\u003d\u003d\u003d\u003d\u003d\u003d\u003d\u003d\u003d\u003d\u003d\u003d\u003d\u003d\u003d\u003d\u003d\u003d\u003d\u003d\u003d\u003d\u003d\u003d\u003d\u003d\u003d\u003d\u003d\u003d\u003d\u003d\u003d\u003d\u003d\u003d\u003d\u003d\u003d\u003d\u003d\u003d\u003d\u003d\u003d\u003d\u003d\u003d\u003d\u003d\u003d\u003d\u003d\u003d\u003d\u003d\u003d\u003d\u003d\u003d\u003d\nNumber of nodes: 16\nNumber of edges: 34\nAverage node degree: 2.12\nHas isolated nodes: False\nHas self-loops: False\nIs undirected: True\n"
        }
      ]
    },
    {
      "cell_type": "markdown",
      "metadata": {},
      "source": [
        "### 1.2. Visualization of the molecules \u003ca class\u003d\"anchor\" id\u003d\"section12\"\u003e\u003c/a\u003e"
      ]
    },
    {
      "execution_count": 149,
      "cell_type": "code",
      "metadata": {},
      "source": [
        "def draw_molecule(mol):\n    \n    m \u003d Chem.MolToMolBlock(mol,confId\u003d-1)\n    \n    p \u003d py3Dmol.view(width\u003d400,height\u003d400)\n    p.removeAllModels()\n    \n    p.addModel(m,\u0027sdf\u0027)\n    p.setStyle({\u0027stick\u0027:{}})\n    p.setBackgroundColor(\u00270xeeeeee\u0027)\n    p.zoomTo()\n    \n    return p.show()"
      ],
      "outputs": []
    },
    {
      "execution_count": 150,
      "cell_type": "code",
      "metadata": {},
      "source": [
        "i \u003d 3666 # np.random.randint(len(dataset)) \nm \u003d Chem.MolFromSmiles(dataset[i].smiles)"
      ],
      "outputs": []
    },
    {
      "execution_count": 151,
      "cell_type": "code",
      "metadata": {},
      "source": [
        "i"
      ],
      "outputs": [
        {
          "output_type": "execute_result",
          "metadata": {},
          "data": {
            "text/plain": "3666"
          },
          "execution_count": 151
        }
      ]
    },
    {
      "execution_count": 152,
      "cell_type": "code",
      "metadata": {},
      "source": [
        "data \u003d dataset[i]  # Get the first graph object.\n\nprint()\nprint(data)\nprint(\u0027\u003d\u003d\u003d\u003d\u003d\u003d\u003d\u003d\u003d\u003d\u003d\u003d\u003d\u003d\u003d\u003d\u003d\u003d\u003d\u003d\u003d\u003d\u003d\u003d\u003d\u003d\u003d\u003d\u003d\u003d\u003d\u003d\u003d\u003d\u003d\u003d\u003d\u003d\u003d\u003d\u003d\u003d\u003d\u003d\u003d\u003d\u003d\u003d\u003d\u003d\u003d\u003d\u003d\u003d\u003d\u003d\u003d\u003d\u003d\u003d\u003d\u0027)\n\n# Gather some statistics about the first graph.\nprint(f\u0027Number of nodes: {data.num_nodes}\u0027)\nprint(f\u0027Number of edges: {data.num_edges}\u0027)\nprint(f\u0027Average node degree: {data.num_edges / data.num_nodes:.2f}\u0027)\nprint(f\u0027Has isolated nodes: {data.has_isolated_nodes()}\u0027)\nprint(f\u0027Has self-loops: {data.has_self_loops()}\u0027)\nprint(f\u0027Is undirected: {data.is_undirected()}\u0027)"
      ],
      "outputs": [
        {
          "output_type": "stream",
          "name": "stdout",
          "text": "\nData(x\u003d[17, 9], edge_index\u003d[2, 36], edge_attr\u003d[36, 3], y\u003d[1, 12], smiles\u003d\u0027Nc1cccc(S(\u003dO)(\u003dO)c2cccc(N)c2)c1\u0027)\n\u003d\u003d\u003d\u003d\u003d\u003d\u003d\u003d\u003d\u003d\u003d\u003d\u003d\u003d\u003d\u003d\u003d\u003d\u003d\u003d\u003d\u003d\u003d\u003d\u003d\u003d\u003d\u003d\u003d\u003d\u003d\u003d\u003d\u003d\u003d\u003d\u003d\u003d\u003d\u003d\u003d\u003d\u003d\u003d\u003d\u003d\u003d\u003d\u003d\u003d\u003d\u003d\u003d\u003d\u003d\u003d\u003d\u003d\u003d\u003d\u003d\nNumber of nodes: 17\nNumber of edges: 36\nAverage node degree: 2.12\nHas isolated nodes: False\nHas self-loops: False\nIs undirected: True\n"
        }
      ]
    },
    {
      "execution_count": 153,
      "cell_type": "code",
      "metadata": {},
      "source": [
        "m"
      ],
      "outputs": [
        {
          "output_type": "execute_result",
          "metadata": {},
          "data": {
            "image/png": "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\u003d\u003d\n",
            "text/plain": "\u003crdkit.Chem.rdchem.Mol at 0x162dd9440\u003e"
          },
          "execution_count": 153
        }
      ]
    },
    {
      "execution_count": 0,
      "cell_type": "code",
      "metadata": {},
      "source": [
        "draw_molecule(m)"
      ],
      "outputs": []
    },
    {
      "cell_type": "markdown",
      "metadata": {},
      "source": [
        "### 1.3. Feature engineering \u003ca class\u003d\"anchor\" id\u003d\"section13\"\u003e\u003c/a\u003e"
      ]
    },
    {
      "execution_count": 155,
      "cell_type": "code",
      "metadata": {
        "scrolled": true,
        "code_folding": []
      },
      "source": [
        "for i in range(len(dataset)):\n    x_i \u003d dataset[i].x.cpu().detach().numpy()\n    x \u003d x_i if i \u003d\u003d0 else np.vstack([x,dataset[i].x.cpu().detach().numpy()])\n    \n    y_i \u003d dataset[i].y.cpu().detach().numpy()\n    y \u003d y_i if i \u003d\u003d0 else np.vstack([y,dataset[i].y.cpu().detach().numpy()])\n    \ndf_x \u003d pd.DataFrame(x)"
      ],
      "outputs": []
    },
    {
      "execution_count": 156,
      "cell_type": "code",
      "metadata": {},
      "source": [
        "df_x.columns \u003d [\n    \u0027atomic_num\u0027, \u0027chirality\u0027, \u0027degree\u0027, \u0027formal_charge\u0027, \n    \u0027numH\u0027, \u0027number_radical_e\u0027, \u0027hybridization\u0027, \n    \u0027is_aromatic\u0027, \u0027is_in_ring\u0027\n]"
      ],
      "outputs": []
    },
    {
      "execution_count": 0,
      "cell_type": "code",
      "metadata": {
        "scrolled": true
      },
      "source": [
        "for col in df_x:\n    px.histogram(\n        df_x, col, histnorm\u003d\u0027percent\u0027,\n        height\u003d300, width\u003d500, title\u003d\u0027Distribution of \u0027+col).show()"
      ],
      "outputs": []
    },
    {
      "execution_count": 158,
      "cell_type": "code",
      "metadata": {},
      "source": [
        "cols_to_normalize \u003d [\n    \u0027atomic_num\u0027, \u0027degree\u0027, \n    \u0027formal_charge\u0027, \n    \u0027numH\u0027,  \n    \u0027number_radical_e\u0027\n]"
      ],
      "outputs": []
    },
    {
      "execution_count": 159,
      "cell_type": "code",
      "metadata": {},
      "source": [
        "cols_to_encode \u003d [\n    \u0027chirality\u0027,\n    \u0027hybridization\u0027\n]"
      ],
      "outputs": []
    },
    {
      "execution_count": 160,
      "cell_type": "code",
      "metadata": {},
      "source": [
        "METHOD \u003d \u0027min-max\u0027\n\nscalers \u003d {}\n\nfor c in cols_to_normalize + cols_to_encode:\n    if METHOD \u003d\u003d \u0027normal\u0027:\n        scalers[c] \u003d {\u0027mean\u0027:df_x[c].mean(), \u0027std\u0027:df_x[c].std()}\n    if METHOD \u003d\u003d \u0027min-max\u0027:\n        scalers[c] \u003d {\u0027min\u0027: df_x[c].min(), \u0027max\u0027: df_x[c].max()}"
      ],
      "outputs": []
    },
    {
      "execution_count": 161,
      "cell_type": "code",
      "metadata": {},
      "source": [
        "scalers[\u0027bond_type\u0027] \u003d {\u0027min\u0027: 1, \u0027max\u0027: 4}"
      ],
      "outputs": []
    },
    {
      "execution_count": 162,
      "cell_type": "code",
      "metadata": {
        "code_folding": []
      },
      "source": [
        "dataset_new \u003d []\n\nfor i in range(len(dataset)):\n    data \u003d dataset[i]\n    x_norm \u003d data.x.detach().cpu().numpy().astype(float)\n    edge_w_norm \u003d data.edge_attr[:,0].detach().cpu().numpy().astype(float)\n    edge_a_norm \u003d data.edge_attr[:,0].detach().cpu().numpy().astype(int)\n    \n    # normalize columns\n    for c in cols_to_normalize:\n        col_i \u003d list(df_x.columns).index(c)\n        \n        if METHOD \u003d\u003d \u0027normal\u0027:\n            x_norm[:, col_i] \u003d (x_norm[:, col_i] - scalers[c][\u0027mean\u0027])/scalers[c][\u0027std\u0027]\n        if METHOD \u003d\u003d \u0027min-max\u0027:\n            x_norm[:, col_i] \u003d (x_norm[:, col_i] - scalers[c][\u0027min\u0027])/(scalers[c][\u0027max\u0027] - scalers[c][\u0027min\u0027])\n    \n    # one-hot encoding of categorical columns\n    for i,c in enumerate(cols_to_encode):\n    \n        col \u003d x_norm[:,list(df_x.columns).index(c)].astype(int)\n        col_enc \u003d np.zeros((col.size, scalers[c][\u0027max\u0027]+1))\n        col_enc[np.arange(col.size),col] \u003d 1\n\n        cols_encoded \u003d col_enc if i \u003d\u003d 0 else np.hstack([cols_encoded, col_enc])\n\n    cols_i_to_encode \u003d [list(df_x.columns).index(c) for c in cols_to_encode] \n    x_norm \u003d x_norm[:,[i for i in range(x_norm.shape[1]) if i not in cols_i_to_encode]]\n    x_norm \u003d np.hstack([x_norm, cols_encoded])\n    \n    # normalize type of bonds\n    edge_w_norm \u003d (edge_w_norm - scalers[\u0027bond_type\u0027][\u0027min\u0027])/(scalers[\u0027bond_type\u0027][\u0027max\u0027] - scalers[\u0027bond_type\u0027][\u0027min\u0027])\n    \n    # one-hot encoding of type of bonds\n    edge_a_norm \u003d data.edge_attr[:,0].detach().cpu().numpy().astype(int)\n    col_enc \u003d np.zeros((edge_a_norm.size, scalers[\u0027bond_type\u0027][\u0027max\u0027]+1))\n    col_enc[np.arange(edge_a_norm.size),edge_a_norm] \u003d 1\n    \n    # saving results\n    data.x_norm \u003d torch.tensor(x_norm, dtype\u003dtorch.float)\n    data.edge_w_norm \u003d torch.tensor(edge_w_norm, dtype\u003dtorch.float)\n    data.edge_a_norm \u003d torch.tensor(col_enc, dtype\u003dtorch.float)\n    \n    dataset_new.append(data)"
      ],
      "outputs": []
    },
    {
      "execution_count": 163,
      "cell_type": "code",
      "metadata": {},
      "source": [
        "df_y \u003d pd.DataFrame(y).melt()"
      ],
      "outputs": []
    },
    {
      "execution_count": 164,
      "cell_type": "code",
      "metadata": {},
      "source": [
        "df_y1 \u003d df_y.groupby([\u0027variable\u0027],as_index\u003dFalse).agg({\u0027value\u0027:[\u0027sum\u0027, \u0027count\u0027]})\ndf_y1.columns \u003d [\u0027variable\u0027,\u0027sum\u0027, \u0027count\u0027]\ndf_y1[\u0027mean\u0027] \u003d df_y1[\u0027sum\u0027]/df_y1[\u0027count\u0027]\ndf_y1[\u0027missing_values\u0027] \u003d (1 - df_y1[\u0027count\u0027] / len(dataset))"
      ],
      "outputs": []
    },
    {
      "execution_count": 165,
      "cell_type": "code",
      "metadata": {},
      "source": [
        "for c in [\u0027mean\u0027, \u0027missing_values\u0027]:\n    df_y1[c] \u003d df_y1[c].apply(lambda x:round(x*100,2))"
      ],
      "outputs": []
    },
    {
      "cell_type": "markdown",
      "metadata": {},
      "source": [
        "## 2. Graph-Based Modeling  \u003ca class\u003d\"anchor\" id\u003d\"section2\"\u003e\u003c/a\u003e\n\nThe objective of this section is to train graph-based models to predict whether a molecule is toxic or not.  For each model, it tests and evaluates different hyperparameters."
      ]
    },
    {
      "cell_type": "markdown",
      "metadata": {},
      "source": [
        "### 2.1. Training a first model \u003ca class\u003d\"anchor\" id\u003d\"section21\"\u003e\u003c/a\u003e"
      ]
    },
    {
      "execution_count": 168,
      "cell_type": "code",
      "metadata": {},
      "source": [
        "TARGET \u003d 2"
      ],
      "outputs": []
    },
    {
      "execution_count": 169,
      "cell_type": "code",
      "metadata": {},
      "source": [
        "dataset_target, Y \u003d [], []\n\nfor i in range(len(dataset_new)):\n    if not(dataset_new[i][\u0027y\u0027][0,TARGET].isnan()):\n        Y.append(dataset_new[i][\u0027y\u0027][0,TARGET])\n        dataset_target.append(dataset_new[i])\n        \nY \u003d pd.DataFrame([y.numpy() for y in Y]).reset_index().rename(columns\u003d{0:\u0027target\u0027})"
      ],
      "outputs": []
    },
    {
      "execution_count": 170,
      "cell_type": "code",
      "metadata": {},
      "source": [
        "Y.target.mean()*100"
      ],
      "outputs": [
        {
          "output_type": "execute_result",
          "metadata": {},
          "data": {
            "text/plain": "11.726981401443481"
          },
          "execution_count": 170
        }
      ]
    },
    {
      "execution_count": 171,
      "cell_type": "code",
      "metadata": {},
      "source": [
        "class_weights \u003d torch.tensor([Y.target.mean(), 1-Y.target.mean()])"
      ],
      "outputs": []
    },
    {
      "execution_count": 172,
      "cell_type": "code",
      "metadata": {},
      "source": [
        "def split_dataset(dataset_target, Y, test_size\u003d0.25, random_state\u003dNone):\n    random_state \u003d np.random.randint(10**3) if random_state is None else random_state\n    \n    sss \u003d StratifiedShuffleSplit(n_splits\u003d1, test_size\u003dtest_size, random_state \u003d random_state)\n\n    train_dataset, test_dataset \u003d [], []\n    for train_index, test_index in sss.split(Y[\u0027index\u0027], Y[\u0027target\u0027]):\n        train_dataset +\u003d [dataset_target[i] for i in list(train_index)]\n        test_dataset +\u003d [dataset_target[i] for i in list(test_index)]\n\n    print(f\u0027Number of training graphs: {len(train_dataset)} -\u003e {round(len(train_dataset)/len(dataset_target)*100)}%\u0027)\n    print(f\u0027Number of test graphs: {len(test_dataset)} -\u003e {round(len(test_dataset)/len(dataset_target)*100)}%\u0027)\n    \n    return train_dataset, test_dataset "
      ],
      "outputs": []
    },
    {
      "execution_count": 173,
      "cell_type": "code",
      "metadata": {},
      "source": [
        "train_dataset, test_dataset \u003d split_dataset(dataset_target, Y)"
      ],
      "outputs": [
        {
          "output_type": "stream",
          "name": "stdout",
          "text": "Number of training graphs: 4911 -\u003e 75%\nNumber of test graphs: 1638 -\u003e 25%\n"
        }
      ]
    },
    {
      "execution_count": 174,
      "cell_type": "code",
      "metadata": {},
      "source": [
        "from torch_geometric.loader import DataLoader\n\ntrain_loader \u003d DataLoader(train_dataset, batch_size\u003d120)\ntest_loader \u003d DataLoader(test_dataset, batch_size\u003d120)"
      ],
      "outputs": []
    },
    {
      "execution_count": 175,
      "cell_type": "code",
      "metadata": {},
      "source": [
        "train_dataset[0]"
      ],
      "outputs": [
        {
          "output_type": "execute_result",
          "metadata": {},
          "data": {
            "text/plain": "Data(x\u003d[15, 9], edge_index\u003d[2, 34], edge_attr\u003d[34, 3], y\u003d[1, 12], smiles\u003d\u0027O\u003dC1O[Pt]2(N[C@@H]3CCCC[C@H]3N2)OC1\u003dO\u0027, x_norm\u003d[15, 17], edge_w_norm\u003d[34], edge_a_norm\u003d[34, 5])"
          },
          "execution_count": 175
        }
      ]
    },
    {
      "execution_count": 176,
      "cell_type": "code",
      "metadata": {
        "code_folding": []
      },
      "source": [
        "from torch.nn import Linear, Softmax\nimport torch.nn.functional as F\nfrom torch_geometric.nn import GCNConv, GATConv, GATv2Conv, TransformerConv\nfrom torch_geometric.nn import global_mean_pool\n\n\nclass GNN(torch.nn.Module):\n    def __init__(self, input_size, hidden_channels, conv, conv_params\u003d{}):\n        super(GNN, self).__init__()\n        torch.manual_seed(12345)\n        self.conv1 \u003d conv(\n            input_size, hidden_channels, **conv_params)\n        self.conv2 \u003d conv(\n            hidden_channels, hidden_channels, **conv_params)\n        self.lin \u003d Linear(hidden_channels, 2)\n\n    def forward(self, x, edge_index, batch,  edge_col \u003d None):\n        # 1. Obtain node embeddings \n        x \u003d self.conv1(x, edge_index, edge_col)\n        x \u003d x.relu()\n        x \u003d self.conv2(x, edge_index, edge_col)\n\n        # 2. Readout layer\n        batch \u003d torch.zeros(data.x.shape[0],dtype\u003dint) if batch is None else batch\n        x \u003d global_mean_pool(x, batch)  # [batch_size, hidden_channels]\n        \n\n        # 3. Apply a final classifier\n        x \u003d F.dropout(x, p\u003d0.5, training\u003dself.training)\n        x \u003d self.lin(x)\n    \n        return x\n\nmodel \u003d GNN(input_size \u003d 17, hidden_channels\u003d64, conv \u003d GCNConv)\nprint(model)"
      ],
      "outputs": [
        {
          "output_type": "stream",
          "name": "stdout",
          "text": "GNN(\n  (conv1): GCNConv(17, 64)\n  (conv2): GCNConv(64, 64)\n  (lin): Linear(in_features\u003d64, out_features\u003d2, bias\u003dTrue)\n)\n"
        }
      ]
    },
    {
      "execution_count": 177,
      "cell_type": "code",
      "metadata": {
        "code_folding": [
          0,
          19,
          37,
          73
        ]
      },
      "source": [
        "def train(train_loader, model, target, optimizer, criterion, edge_col_name):\n    model.train()\n    \n    losses \u003d []\n\n    for data in train_loader:  # Iterate in batches over the training dataset.\n        if edge_col_name\u003d\u003dNone:\n            out \u003d model(data.x_norm, data.edge_index, data.batch) \n        else:\n            out \u003d model(data.x_norm, data.edge_index, data.batch, data[edge_col_name]) \n        \n        loss \u003d criterion(out, data.y[:,target].long())  # Compute the loss.\n        loss.backward()  # Derive gradients.\n        optimizer.step()  # Update parameters based on gradients.\n        optimizer.zero_grad()  # Clear gradients.\n        losses.append(loss.cpu().detach().numpy())\n        \n    return np.mean(losses)\n\ndef test(loader, model, target, edge_col_name, metric \u003d metrics.accuracy_score):\n    \n    model.eval()\n    \n    score \u003d 0\n    for data in loader:\n        if edge_col_name\u003d\u003dNone:\n            out \u003d model(data.x_norm, data.edge_index, data.batch) \n        else:\n            out \u003d model(data.x_norm, data.edge_index, data.batch, data[edge_col_name]) \n            \n        y_pred \u003d out.argmax(dim\u003d1).detach().numpy()\n        y_true \u003d data.y[:,target].long().cpu().detach().numpy()\n        \n        score +\u003d metric(y_true, y_pred)\n    \n    return score/len(loader)\n\ndef train_test(\n    train_loader, test_loader, model, model_params, target, class_weights, edge_col_name\u003dNone, \n    learning_rate\u003d0.01, e_patience \u003d 10, min_acc\u003d 0.005, n_epochs\u003d500):\n    t0 \u003d time.time()\n\n    model \u003d model(**model_params)\n    optimizer \u003d torch.optim.Adam(model.parameters(), lr\u003dlearning_rate)\n    criterion \u003d torch.nn.CrossEntropyLoss(weight \u003d class_weights)\n\n    k\u003d0\n    \n    loss, train_score, test_score \u003d [], [], []\n    \n    for epoch in range(n_epochs):\n        loss +\u003d [train(train_loader, model, target, optimizer, criterion, edge_col_name)]\n        train_score +\u003d [test(train_loader, model, target, edge_col_name)]\n        test_score +\u003d [test(test_loader, model, target, edge_col_name)]\n        \n        if (epoch+1)%10\u003d\u003d0:\n            print(f\u0027Epoch: {epoch+1:03d}, Loss: {loss[-1]:.4f}, Train: {train_score[-1]:.4f}, Test: {test_score[-1]:.4f}\u0027)\n\n        results \u003d pd.DataFrame({\n            \u0027loss\u0027: loss,\n            \u0027train_score\u0027: train_score, \u0027test_score\u0027: test_score,\n            \u0027time\u0027:(time.time()-t0)/60\n        })\n\n        # enable early stopping\n        if (epoch \u003e 1) and abs(loss[-1]/loss[-2]-1) \u003c min_acc :\n            k +\u003d 1\n        if k\u003e e_patience:\n            print(\u0027Early stopping, epoch\u0027, epoch)\n            break\n\n    return model, results\n\ndef visualize_loss(results):\n    fig \u003d go.Figure()\n\n    fig.add_trace(go.Scatter(x\u003dresults.index, y\u003dresults[\u0027train_score\u0027], name \u003d \u0027train_score\u0027))\n    fig.add_trace(go.Scatter(x\u003dresults.index, y\u003dresults[\u0027test_score\u0027], name \u003d \u0027test_score\u0027))\n    fig.add_trace(go.Scatter(x\u003dresults.index, y\u003dresults[\u0027loss\u0027], name \u003d \u0027loss\u0027))\n\n    fig.update_yaxes(title_text\u003d\u0027Score\u0027)\n    fig.update_xaxes(title_text\u003d\"Epoch\")\n    \n    fig.update_yaxes(range\u003d[0,1.3*max([max(results[c]) for c in [\u0027loss\u0027, \u0027train_score\u0027, \u0027test_score\u0027]])])\n    \n\n    return fig"
      ],
      "outputs": []
    },
    {
      "execution_count": 178,
      "cell_type": "code",
      "metadata": {},
      "source": [
        "N_EPOCHS \u003d 500\nE_PATIENCE \u003d 50\nLEARNING_RATE \u003d 0.01"
      ],
      "outputs": []
    },
    {
      "execution_count": 182,
      "cell_type": "code",
      "metadata": {
        "scrolled": true
      },
      "source": [
        "model_params \u003d {\"input_size\":17, \"hidden_channels\":32, \u0027conv\u0027:GCNConv}\n\nmodel, results \u003d train_test(\n    train_loader, test_loader, GNN, model_params, target \u003d TARGET, class_weights \u003d class_weights, \n    learning_rate\u003dLEARNING_RATE, e_patience \u003d E_PATIENCE, n_epochs\u003dN_EPOCHS)"
      ],
      "outputs": [
        {
          "output_type": "stream",
          "name": "stdout",
          "text": "Epoch: 010, Loss: 0.5266, Train: 0.6903, Test: 0.6768\nEpoch: 020, Loss: 0.5218, Train: 0.7162, Test: 0.7108\nEpoch: 030, Loss: 0.5112, Train: 0.7420, Test: 0.7412\nEpoch: 040, Loss: 0.4992, Train: 0.7241, Test: 0.7224\nEpoch: 050, Loss: 0.4938, Train: 0.7406, Test: 0.7340\nEpoch: 060, Loss: 0.4849, Train: 0.7425, Test: 0.7361\nEpoch: 070, Loss: 0.4847, Train: 0.7214, Test: 0.7165\nEpoch: 080, Loss: 0.4835, Train: 0.7297, Test: 0.7261\nEpoch: 090, Loss: 0.4796, Train: 0.7211, Test: 0.7171\nEpoch: 100, Loss: 0.4761, Train: 0.7394, Test: 0.7302\nEarly stopping, epoch 108\n"
        }
      ]
    },
    {
      "cell_type": "markdown",
      "metadata": {},
      "source": [
        "### 2.2. Testing different model hyperparameters for one target \u003ca class\u003d\"anchor\" id\u003d\"section22\"\u003e\u003c/a\u003e"
      ]
    },
    {
      "cell_type": "markdown",
      "metadata": {},
      "source": [
        "#### ... GCN vs. GAT layers"
      ]
    },
    {
      "execution_count": 183,
      "cell_type": "code",
      "metadata": {},
      "source": [
        "N \u003d 3"
      ],
      "outputs": []
    },
    {
      "execution_count": 184,
      "cell_type": "code",
      "metadata": {
        "code_folding": []
      },
      "source": [
        "def train_test_CV(dataset_target, Y, GNN, model_params, target, \n                  class_weights,edge_col_name \u003d None, \n                  learning_rate\u003d0.01, e_patience \u003d 10, min_acc\u003d 0.005, n_epochs\u003d500, N\u003d3):\n\n    for i in range(N):\n        \n        train_dataset, test_dataset \u003d split_dataset(dataset_target, Y)\n\n        train_loader \u003d DataLoader(train_dataset, batch_size\u003d120)\n        test_loader \u003d DataLoader(test_dataset, batch_size\u003d120)\n        \n        model, results \u003d train_test(\n            train_loader, test_loader,\n            GNN, model_params, target, class_weights, edge_col_name,\n            learning_rate, e_patience, n_epochs \u003d n_epochs)\n        \n        results_df \u003d results.iloc[-1:] if i \u003d\u003d 0 else pd.concat([results_df, results.iloc[-1:]])\n        \n        print(results_df)\n        \n    means \u003d pd.DataFrame(results_df.mean()).T.rename(columns\u003d{c:c+\u0027_mean\u0027 for c in results_df.columns})\n    stds \u003d pd.DataFrame(results_df.std()).T.rename(columns\u003d{c:c+\u0027_std\u0027 for c in results_df.columns})\n    results_df \u003d pd.concat([means, stds], axis\u003d1).reset_index(drop\u003dTrue)\n      \n    return model, results_df"
      ],
      "outputs": []
    },
    {
      "execution_count": 0,
      "cell_type": "code",
      "metadata": {
        "scrolled": true
      },
      "source": [
        "model, results \u003d  train_test_CV(\n    dataset_target, Y, GNN, model_params, target \u003d TARGET,\n    class_weights \u003d class_weights,edge_col_name\u003dNone,\n    learning_rate\u003dLEARNING_RATE, e_patience \u003d E_PATIENCE, n_epochs\u003dN_EPOCHS, N\u003d3)"
      ],
      "outputs": []
    },
    {
      "execution_count": 186,
      "cell_type": "code",
      "metadata": {},
      "source": [
        "results[\u0027model\u0027] \u003d \u0027GCNConv\u0027\nresults_df \u003d results\nresults_df"
      ],
      "outputs": [
        {
          "output_type": "execute_result",
          "metadata": {},
          "data": {
            "text/plain": "   loss_mean  train_score_mean  test_score_mean  time_mean  loss_std  train_score_std  test_score_std  time_std    model\n0   0.489916          0.749086         0.741056   2.206384  0.007948         0.041765        0.058838    0.1819  GCNConv",
            "text/html": "\u003cdiv\u003e\n\u003cstyle scoped\u003e\n    .dataframe tbody tr th:only-of-type {\n        vertical-align: middle;\n    }\n\n    .dataframe tbody tr th {\n        vertical-align: top;\n    }\n\n    .dataframe thead th {\n        text-align: right;\n    }\n\u003c/style\u003e\n\u003ctable border\u003d\"1\" class\u003d\"dataframe\"\u003e\n  \u003cthead\u003e\n    \u003ctr style\u003d\"text-align: right;\"\u003e\n      \u003cth\u003e\u003c/th\u003e\n      \u003cth\u003eloss_mean\u003c/th\u003e\n      \u003cth\u003etrain_score_mean\u003c/th\u003e\n      \u003cth\u003etest_score_mean\u003c/th\u003e\n      \u003cth\u003etime_mean\u003c/th\u003e\n      \u003cth\u003eloss_std\u003c/th\u003e\n      \u003cth\u003etrain_score_std\u003c/th\u003e\n      \u003cth\u003etest_score_std\u003c/th\u003e\n      \u003cth\u003etime_std\u003c/th\u003e\n      \u003cth\u003emodel\u003c/th\u003e\n    \u003c/tr\u003e\n  \u003c/thead\u003e\n  \u003ctbody\u003e\n    \u003ctr\u003e\n      \u003cth\u003e0\u003c/th\u003e\n      \u003ctd\u003e0.489916\u003c/td\u003e\n      \u003ctd\u003e0.749086\u003c/td\u003e\n      \u003ctd\u003e0.741056\u003c/td\u003e\n      \u003ctd\u003e2.206384\u003c/td\u003e\n      \u003ctd\u003e0.007948\u003c/td\u003e\n      \u003ctd\u003e0.041765\u003c/td\u003e\n      \u003ctd\u003e0.058838\u003c/td\u003e\n      \u003ctd\u003e0.1819\u003c/td\u003e\n      \u003ctd\u003eGCNConv\u003c/td\u003e\n    \u003c/tr\u003e\n  \u003c/tbody\u003e\n\u003c/table\u003e\n\u003c/div\u003e"
          },
          "execution_count": 186
        }
      ]
    },
    {
      "execution_count": 187,
      "cell_type": "code",
      "metadata": {},
      "source": [
        "y_pred, y_true \u003d [], []\n\nmodel.eval()\nfor data in test_dataset:\n    out \u003d  model(data.x_norm, data.edge_index, batch\u003dNone) \n    y_pred +\u003d [out.argmax(dim\u003d1).detach().numpy()]\n    y_true +\u003d [data.y[:,TARGET].long().cpu().detach().numpy()]\n\nprint(metrics.classification_report(y_true, y_pred))\n\nmodel_metrics \u003d {\n    \u0027accuracy\u0027: metrics.accuracy_score(y_true, y_pred),\n    \u0027precision\u0027:  metrics.precision_score(y_true, y_pred),\n    \u0027recall\u0027:  metrics.recall_score(y_true, y_pred),\n    \u0027f1-recall\u0027:  metrics.recall_score(y_true, y_pred),\n}\n\nmodel_metrics"
      ],
      "outputs": [
        {
          "output_type": "stream",
          "name": "stdout",
          "text": "              precision    recall  f1-score   support\n\n           0       0.96      0.79      0.87      1446\n           1       0.33      0.76      0.46       192\n\n    accuracy                           0.79      1638\n   macro avg       0.65      0.78      0.66      1638\nweighted avg       0.89      0.79      0.82      1638\n\n"
        },
        {
          "output_type": "execute_result",
          "metadata": {},
          "data": {
            "text/plain": "{\u0027accuracy\u0027: 0.7905982905982906,\n \u0027precision\u0027: 0.3295711060948081,\n \u0027recall\u0027: 0.7604166666666666,\n \u0027f1-recall\u0027: 0.7604166666666666}"
          },
          "execution_count": 187
        }
      ]
    },
    {
      "execution_count": 0,
      "cell_type": "code",
      "metadata": {
        "scrolled": true
      },
      "source": [
        "model_params \u003d {\"input_size\":17, \"hidden_channels\":32, \u0027conv\u0027:GATConv}\n\nmodel, results \u003d train_test_CV(\n    dataset_target, Y, GNN, model_params, target \u003d TARGET, class_weights \u003d class_weights, \n    learning_rate\u003dLEARNING_RATE, e_patience \u003d E_PATIENCE, n_epochs\u003dN_EPOCHS)\n\nresults[\u0027model\u0027] \u003d \u0027GATConv\u0027\nresults_df \u003d pd.concat([results_df, results], axis\u003d0)"
      ],
      "outputs": []
    },
    {
      "execution_count": 189,
      "cell_type": "code",
      "metadata": {},
      "source": [
        "results_df"
      ],
      "outputs": [
        {
          "output_type": "execute_result",
          "metadata": {},
          "data": {
            "text/plain": "   loss_mean  train_score_mean  test_score_mean  time_mean  loss_std  train_score_std  test_score_std  time_std    model\n0   0.489916          0.749086         0.741056   2.206384  0.007948         0.041765        0.058838   0.18190  GCNConv\n0   0.506232          0.714801         0.709096   2.486684  0.011140         0.069543        0.056365   0.34252  GATConv",
            "text/html": "\u003cdiv\u003e\n\u003cstyle scoped\u003e\n    .dataframe tbody tr th:only-of-type {\n        vertical-align: middle;\n    }\n\n    .dataframe tbody tr th {\n        vertical-align: top;\n    }\n\n    .dataframe thead th {\n        text-align: right;\n    }\n\u003c/style\u003e\n\u003ctable border\u003d\"1\" class\u003d\"dataframe\"\u003e\n  \u003cthead\u003e\n    \u003ctr style\u003d\"text-align: right;\"\u003e\n      \u003cth\u003e\u003c/th\u003e\n      \u003cth\u003eloss_mean\u003c/th\u003e\n      \u003cth\u003etrain_score_mean\u003c/th\u003e\n      \u003cth\u003etest_score_mean\u003c/th\u003e\n      \u003cth\u003etime_mean\u003c/th\u003e\n      \u003cth\u003eloss_std\u003c/th\u003e\n      \u003cth\u003etrain_score_std\u003c/th\u003e\n      \u003cth\u003etest_score_std\u003c/th\u003e\n      \u003cth\u003etime_std\u003c/th\u003e\n      \u003cth\u003emodel\u003c/th\u003e\n    \u003c/tr\u003e\n  \u003c/thead\u003e\n  \u003ctbody\u003e\n    \u003ctr\u003e\n      \u003cth\u003e0\u003c/th\u003e\n      \u003ctd\u003e0.489916\u003c/td\u003e\n      \u003ctd\u003e0.749086\u003c/td\u003e\n      \u003ctd\u003e0.741056\u003c/td\u003e\n      \u003ctd\u003e2.206384\u003c/td\u003e\n      \u003ctd\u003e0.007948\u003c/td\u003e\n      \u003ctd\u003e0.041765\u003c/td\u003e\n      \u003ctd\u003e0.058838\u003c/td\u003e\n      \u003ctd\u003e0.18190\u003c/td\u003e\n      \u003ctd\u003eGCNConv\u003c/td\u003e\n    \u003c/tr\u003e\n    \u003ctr\u003e\n      \u003cth\u003e0\u003c/th\u003e\n      \u003ctd\u003e0.506232\u003c/td\u003e\n      \u003ctd\u003e0.714801\u003c/td\u003e\n      \u003ctd\u003e0.709096\u003c/td\u003e\n      \u003ctd\u003e2.486684\u003c/td\u003e\n      \u003ctd\u003e0.011140\u003c/td\u003e\n      \u003ctd\u003e0.069543\u003c/td\u003e\n      \u003ctd\u003e0.056365\u003c/td\u003e\n      \u003ctd\u003e0.34252\u003c/td\u003e\n      \u003ctd\u003eGATConv\u003c/td\u003e\n    \u003c/tr\u003e\n  \u003c/tbody\u003e\n\u003c/table\u003e\n\u003c/div\u003e"
          },
          "execution_count": 189
        }
      ]
    },
    {
      "execution_count": 190,
      "cell_type": "code",
      "metadata": {},
      "source": [
        "y_pred, y_true \u003d [], []\n\nmodel.eval()\nfor data in test_dataset:\n    out \u003d  model(data.x_norm, data.edge_index, batch\u003dNone) \n    y_pred +\u003d [out.argmax(dim\u003d1).detach().numpy()]\n    y_true +\u003d [data.y[:,TARGET].long().cpu().detach().numpy()]\n\nprint(metrics.classification_report(y_true, y_pred))\n\nmodel_metrics \u003d {\n    \u0027accuracy\u0027: metrics.accuracy_score(y_true, y_pred),\n    \u0027precision\u0027:  metrics.precision_score(y_true, y_pred),\n    \u0027recall\u0027:  metrics.recall_score(y_true, y_pred),\n    \u0027f1-recall\u0027:  metrics.recall_score(y_true, y_pred),\n}\n\nmodel_metrics"
      ],
      "outputs": [
        {
          "output_type": "stream",
          "name": "stdout",
          "text": "              precision    recall  f1-score   support\n\n           0       0.97      0.69      0.80      1446\n           1       0.26      0.83      0.39       192\n\n    accuracy                           0.70      1638\n   macro avg       0.61      0.76      0.60      1638\nweighted avg       0.88      0.70      0.75      1638\n\n"
        },
        {
          "output_type": "execute_result",
          "metadata": {},
          "data": {
            "text/plain": "{\u0027accuracy\u0027: 0.702075702075702,\n \u0027precision\u0027: 0.25895765472312704,\n \u0027recall\u0027: 0.828125,\n \u0027f1-recall\u0027: 0.828125}"
          },
          "execution_count": 190
        }
      ]
    },
    {
      "cell_type": "markdown",
      "metadata": {},
      "source": [
        "#### ... 2 vs. 3 layers"
      ]
    },
    {
      "execution_count": 191,
      "cell_type": "code",
      "metadata": {
        "code_folding": []
      },
      "source": [
        "class GNN_3l(torch.nn.Module):\n    def __init__(self, input_size, hidden_channels, conv, conv_params\u003d{}):\n        super(GNN_3l, self).__init__()\n        torch.manual_seed(12345)\n        self.conv1 \u003d conv(\n            input_size, hidden_channels, **conv_params)\n        self.conv2 \u003d conv(\n            hidden_channels, hidden_channels, **conv_params)\n        self.conv3 \u003d conv(\n            hidden_channels, hidden_channels, **conv_params)\n        self.lin \u003d Linear(hidden_channels, 2)\n\n    def forward(self, x, edge_index, batch,  edge_col\u003dNone):\n        # 1. Obtain node embeddings \n        x \u003d self.conv1(x, edge_index, edge_col)\n        x \u003d x.relu()\n        x \u003d self.conv2(x, edge_index, edge_col)\n        x \u003d x.relu()\n        x \u003d self.conv3(x, edge_index)\n\n        # 2. Readout layer\n        batch \u003d torch.zeros(data.x.shape[0],dtype\u003dint) if batch is None else batch\n        x \u003d global_mean_pool(x, batch)  # [batch_size, hidden_channels]\n\n        # 3. Apply a final classifier\n        x \u003d F.dropout(x, p\u003d0.5, training\u003dself.training)\n        x \u003d self.lin(x)\n    \n        return x"
      ],
      "outputs": []
    },
    {
      "execution_count": 0,
      "cell_type": "code",
      "metadata": {
        "scrolled": true
      },
      "source": [
        "model_params \u003d {\"input_size\":17, \"hidden_channels\":32, \u0027conv\u0027:GCNConv}\n\nmodel, results \u003d train_test_CV(\n    dataset_target, Y, GNN_3l, model_params, target \u003d TARGET, class_weights \u003d class_weights, \n    learning_rate\u003dLEARNING_RATE, e_patience \u003d E_PATIENCE, n_epochs\u003dN_EPOCHS)\n\nresults[\u0027model\u0027] \u003d \u0027GCNConv\u0027\nresults_df[\u0027nb_layers\u0027] \u003d 2\nresults[\u0027nb_layers\u0027] \u003d 3\nresults_df \u003d pd.concat([results_df, results], axis\u003d0)"
      ],
      "outputs": []
    },
    {
      "execution_count": 193,
      "cell_type": "code",
      "metadata": {
        "scrolled": true
      },
      "source": [
        "results_df"
      ],
      "outputs": [
        {
          "output_type": "execute_result",
          "metadata": {},
          "data": {
            "text/plain": "   loss_mean  train_score_mean  test_score_mean  time_mean  loss_std  train_score_std  test_score_std  time_std    model  nb_layers\n0   0.489916          0.749086         0.741056   2.206384  0.007948         0.041765        0.058838  0.181900  GCNConv          2\n0   0.506232          0.714801         0.709096   2.486684  0.011140         0.069543        0.056365  0.342520  GATConv          2\n0   0.462576          0.778957         0.776862   3.468169  0.032716         0.042906        0.037108  0.908766  GCNConv          3",
            "text/html": "\u003cdiv\u003e\n\u003cstyle scoped\u003e\n    .dataframe tbody tr th:only-of-type {\n        vertical-align: middle;\n    }\n\n    .dataframe tbody tr th {\n        vertical-align: top;\n    }\n\n    .dataframe thead th {\n        text-align: right;\n    }\n\u003c/style\u003e\n\u003ctable border\u003d\"1\" class\u003d\"dataframe\"\u003e\n  \u003cthead\u003e\n    \u003ctr style\u003d\"text-align: right;\"\u003e\n      \u003cth\u003e\u003c/th\u003e\n      \u003cth\u003eloss_mean\u003c/th\u003e\n      \u003cth\u003etrain_score_mean\u003c/th\u003e\n      \u003cth\u003etest_score_mean\u003c/th\u003e\n      \u003cth\u003etime_mean\u003c/th\u003e\n      \u003cth\u003eloss_std\u003c/th\u003e\n      \u003cth\u003etrain_score_std\u003c/th\u003e\n      \u003cth\u003etest_score_std\u003c/th\u003e\n      \u003cth\u003etime_std\u003c/th\u003e\n      \u003cth\u003emodel\u003c/th\u003e\n      \u003cth\u003enb_layers\u003c/th\u003e\n    \u003c/tr\u003e\n  \u003c/thead\u003e\n  \u003ctbody\u003e\n    \u003ctr\u003e\n      \u003cth\u003e0\u003c/th\u003e\n      \u003ctd\u003e0.489916\u003c/td\u003e\n      \u003ctd\u003e0.749086\u003c/td\u003e\n      \u003ctd\u003e0.741056\u003c/td\u003e\n      \u003ctd\u003e2.206384\u003c/td\u003e\n      \u003ctd\u003e0.007948\u003c/td\u003e\n      \u003ctd\u003e0.041765\u003c/td\u003e\n      \u003ctd\u003e0.058838\u003c/td\u003e\n      \u003ctd\u003e0.181900\u003c/td\u003e\n      \u003ctd\u003eGCNConv\u003c/td\u003e\n      \u003ctd\u003e2\u003c/td\u003e\n    \u003c/tr\u003e\n    \u003ctr\u003e\n      \u003cth\u003e0\u003c/th\u003e\n      \u003ctd\u003e0.506232\u003c/td\u003e\n      \u003ctd\u003e0.714801\u003c/td\u003e\n      \u003ctd\u003e0.709096\u003c/td\u003e\n      \u003ctd\u003e2.486684\u003c/td\u003e\n      \u003ctd\u003e0.011140\u003c/td\u003e\n      \u003ctd\u003e0.069543\u003c/td\u003e\n      \u003ctd\u003e0.056365\u003c/td\u003e\n      \u003ctd\u003e0.342520\u003c/td\u003e\n      \u003ctd\u003eGATConv\u003c/td\u003e\n      \u003ctd\u003e2\u003c/td\u003e\n    \u003c/tr\u003e\n    \u003ctr\u003e\n      \u003cth\u003e0\u003c/th\u003e\n      \u003ctd\u003e0.462576\u003c/td\u003e\n      \u003ctd\u003e0.778957\u003c/td\u003e\n      \u003ctd\u003e0.776862\u003c/td\u003e\n      \u003ctd\u003e3.468169\u003c/td\u003e\n      \u003ctd\u003e0.032716\u003c/td\u003e\n      \u003ctd\u003e0.042906\u003c/td\u003e\n      \u003ctd\u003e0.037108\u003c/td\u003e\n      \u003ctd\u003e0.908766\u003c/td\u003e\n      \u003ctd\u003eGCNConv\u003c/td\u003e\n      \u003ctd\u003e3\u003c/td\u003e\n    \u003c/tr\u003e\n  \u003c/tbody\u003e\n\u003c/table\u003e\n\u003c/div\u003e"
          },
          "execution_count": 193
        }
      ]
    },
    {
      "execution_count": 194,
      "cell_type": "code",
      "metadata": {},
      "source": [
        "y_pred, y_true \u003d [], []\n\nmodel.eval()\nfor data in test_dataset:\n    out \u003d  model(data.x_norm, data.edge_index, batch\u003dNone) \n    y_pred +\u003d [out.argmax(dim\u003d1).detach().numpy()]\n    y_true +\u003d [data.y[:,TARGET].long().cpu().detach().numpy()]\n\nprint(metrics.classification_report(y_true, y_pred))\n\nmodel_metrics \u003d {\n    \u0027accuracy\u0027: metrics.accuracy_score(y_true, y_pred),\n    \u0027precision\u0027:  metrics.precision_score(y_true, y_pred),\n    \u0027recall\u0027:  metrics.recall_score(y_true, y_pred),\n    \u0027f1-recall\u0027:  metrics.recall_score(y_true, y_pred),\n}\nmodel_metrics"
      ],
      "outputs": [
        {
          "output_type": "stream",
          "name": "stdout",
          "text": "              precision    recall  f1-score   support\n\n           0       0.98      0.74      0.85      1446\n           1       0.31      0.89      0.46       192\n\n    accuracy                           0.76      1638\n   macro avg       0.65      0.81      0.66      1638\nweighted avg       0.90      0.76      0.80      1638\n\n"
        },
        {
          "output_type": "execute_result",
          "metadata": {},
          "data": {
            "text/plain": "{\u0027accuracy\u0027: 0.7606837606837606,\n \u0027precision\u0027: 0.3148148148148148,\n \u0027recall\u0027: 0.8854166666666666,\n \u0027f1-recall\u0027: 0.8854166666666666}"
          },
          "execution_count": 194
        }
      ]
    },
    {
      "cell_type": "markdown",
      "metadata": {},
      "source": [
        "#### ... using edge data"
      ]
    },
    {
      "execution_count": 0,
      "cell_type": "code",
      "metadata": {
        "scrolled": true
      },
      "source": [
        "# using edge_weight for GCN\n\nmodel_params \u003d {\"input_size\":17, \"hidden_channels\":32, \u0027conv\u0027:GCNConv}\n\nmodel, results \u003d train_test_CV(\n    dataset_target, Y, GNN_3l, model_params, target \u003d TARGET, \n    class_weights \u003d class_weights,  edge_col_name\u003d\u0027edge_w_norm\u0027, \n    learning_rate\u003dLEARNING_RATE, e_patience \u003d E_PATIENCE, n_epochs\u003dN_EPOCHS)\n\nresults[\u0027model\u0027] \u003d \u0027GCNConv\u0027\nresults[\u0027nb_layers\u0027] \u003d 3\nresults[\u0027edge_weight\u0027] \u003d True\nresults_df[\u0027edge_weight\u0027] \u003d False\n\nresults_df \u003d pd.concat([results_df, results], axis\u003d0)"
      ],
      "outputs": []
    },
    {
      "execution_count": 196,
      "cell_type": "code",
      "metadata": {
        "scrolled": true
      },
      "source": [
        "results_df"
      ],
      "outputs": [
        {
          "output_type": "execute_result",
          "metadata": {},
          "data": {
            "text/plain": "   loss_mean  train_score_mean  test_score_mean  time_mean  loss_std  train_score_std  test_score_std  time_std    model  nb_layers  edge_weight\n0   0.489916          0.749086         0.741056   2.206384  0.007948         0.041765        0.058838  0.181900  GCNConv          2        False\n0   0.506232          0.714801         0.709096   2.486684  0.011140         0.069543        0.056365  0.342520  GATConv          2        False\n0   0.462576          0.778957         0.776862   3.468169  0.032716         0.042906        0.037108  0.908766  GCNConv          3        False\n0   0.490190          0.704971         0.687195   3.104505  0.017238         0.023007        0.022712  0.209168  GCNConv          3         True",
            "text/html": "\u003cdiv\u003e\n\u003cstyle scoped\u003e\n    .dataframe tbody tr th:only-of-type {\n        vertical-align: middle;\n    }\n\n    .dataframe tbody tr th {\n        vertical-align: top;\n    }\n\n    .dataframe thead th {\n        text-align: right;\n    }\n\u003c/style\u003e\n\u003ctable border\u003d\"1\" class\u003d\"dataframe\"\u003e\n  \u003cthead\u003e\n    \u003ctr style\u003d\"text-align: right;\"\u003e\n      \u003cth\u003e\u003c/th\u003e\n      \u003cth\u003eloss_mean\u003c/th\u003e\n      \u003cth\u003etrain_score_mean\u003c/th\u003e\n      \u003cth\u003etest_score_mean\u003c/th\u003e\n      \u003cth\u003etime_mean\u003c/th\u003e\n      \u003cth\u003eloss_std\u003c/th\u003e\n      \u003cth\u003etrain_score_std\u003c/th\u003e\n      \u003cth\u003etest_score_std\u003c/th\u003e\n      \u003cth\u003etime_std\u003c/th\u003e\n      \u003cth\u003emodel\u003c/th\u003e\n      \u003cth\u003enb_layers\u003c/th\u003e\n      \u003cth\u003eedge_weight\u003c/th\u003e\n    \u003c/tr\u003e\n  \u003c/thead\u003e\n  \u003ctbody\u003e\n    \u003ctr\u003e\n      \u003cth\u003e0\u003c/th\u003e\n      \u003ctd\u003e0.489916\u003c/td\u003e\n      \u003ctd\u003e0.749086\u003c/td\u003e\n      \u003ctd\u003e0.741056\u003c/td\u003e\n      \u003ctd\u003e2.206384\u003c/td\u003e\n      \u003ctd\u003e0.007948\u003c/td\u003e\n      \u003ctd\u003e0.041765\u003c/td\u003e\n      \u003ctd\u003e0.058838\u003c/td\u003e\n      \u003ctd\u003e0.181900\u003c/td\u003e\n      \u003ctd\u003eGCNConv\u003c/td\u003e\n      \u003ctd\u003e2\u003c/td\u003e\n      \u003ctd\u003eFalse\u003c/td\u003e\n    \u003c/tr\u003e\n    \u003ctr\u003e\n      \u003cth\u003e0\u003c/th\u003e\n      \u003ctd\u003e0.506232\u003c/td\u003e\n      \u003ctd\u003e0.714801\u003c/td\u003e\n      \u003ctd\u003e0.709096\u003c/td\u003e\n      \u003ctd\u003e2.486684\u003c/td\u003e\n      \u003ctd\u003e0.011140\u003c/td\u003e\n      \u003ctd\u003e0.069543\u003c/td\u003e\n      \u003ctd\u003e0.056365\u003c/td\u003e\n      \u003ctd\u003e0.342520\u003c/td\u003e\n      \u003ctd\u003eGATConv\u003c/td\u003e\n      \u003ctd\u003e2\u003c/td\u003e\n      \u003ctd\u003eFalse\u003c/td\u003e\n    \u003c/tr\u003e\n    \u003ctr\u003e\n      \u003cth\u003e0\u003c/th\u003e\n      \u003ctd\u003e0.462576\u003c/td\u003e\n      \u003ctd\u003e0.778957\u003c/td\u003e\n      \u003ctd\u003e0.776862\u003c/td\u003e\n      \u003ctd\u003e3.468169\u003c/td\u003e\n      \u003ctd\u003e0.032716\u003c/td\u003e\n      \u003ctd\u003e0.042906\u003c/td\u003e\n      \u003ctd\u003e0.037108\u003c/td\u003e\n      \u003ctd\u003e0.908766\u003c/td\u003e\n      \u003ctd\u003eGCNConv\u003c/td\u003e\n      \u003ctd\u003e3\u003c/td\u003e\n      \u003ctd\u003eFalse\u003c/td\u003e\n    \u003c/tr\u003e\n    \u003ctr\u003e\n      \u003cth\u003e0\u003c/th\u003e\n      \u003ctd\u003e0.490190\u003c/td\u003e\n      \u003ctd\u003e0.704971\u003c/td\u003e\n      \u003ctd\u003e0.687195\u003c/td\u003e\n      \u003ctd\u003e3.104505\u003c/td\u003e\n      \u003ctd\u003e0.017238\u003c/td\u003e\n      \u003ctd\u003e0.023007\u003c/td\u003e\n      \u003ctd\u003e0.022712\u003c/td\u003e\n      \u003ctd\u003e0.209168\u003c/td\u003e\n      \u003ctd\u003eGCNConv\u003c/td\u003e\n      \u003ctd\u003e3\u003c/td\u003e\n      \u003ctd\u003eTrue\u003c/td\u003e\n    \u003c/tr\u003e\n  \u003c/tbody\u003e\n\u003c/table\u003e\n\u003c/div\u003e"
          },
          "execution_count": 196
        }
      ]
    },
    {
      "execution_count": 197,
      "cell_type": "code",
      "metadata": {},
      "source": [
        "y_pred, y_true \u003d [], []\n\nmodel.eval()\nfor data in test_dataset:\n    out \u003d  model(data.x_norm, data.edge_index, batch\u003dNone) \n    y_pred +\u003d [out.argmax(dim\u003d1).detach().numpy()]\n    y_true +\u003d [data.y[:,TARGET].long().cpu().detach().numpy()]\n\nprint(metrics.classification_report(y_true, y_pred))\n\nmodel_metrics \u003d {\n    \u0027accuracy\u0027: metrics.accuracy_score(y_true, y_pred),\n    \u0027precision\u0027:  metrics.precision_score(y_true, y_pred),\n    \u0027recall\u0027:  metrics.recall_score(y_true, y_pred),\n    \u0027f1-recall\u0027:  metrics.recall_score(y_true, y_pred),\n}\n\nmodel_metrics"
      ],
      "outputs": [
        {
          "output_type": "stream",
          "name": "stdout",
          "text": "              precision    recall  f1-score   support\n\n           0       0.96      0.71      0.82      1446\n           1       0.26      0.78      0.39       192\n\n    accuracy                           0.72      1638\n   macro avg       0.61      0.74      0.61      1638\nweighted avg       0.88      0.72      0.77      1638\n\n"
        },
        {
          "output_type": "execute_result",
          "metadata": {},
          "data": {
            "text/plain": "{\u0027accuracy\u0027: 0.721001221001221,\n \u0027precision\u0027: 0.26465364120781526,\n \u0027recall\u0027: 0.7760416666666666,\n \u0027f1-recall\u0027: 0.7760416666666666}"
          },
          "execution_count": 197
        }
      ]
    },
    {
      "execution_count": 0,
      "cell_type": "code",
      "metadata": {
        "scrolled": true
      },
      "source": [
        "# using edge_attr for GAT\n\nmodel_params \u003d {\"input_size\":17, \"hidden_channels\":32, \u0027conv\u0027:GATConv, \u0027conv_params\u0027 : {\u0027edge_dim\u0027:5}}\n\nmodel, results \u003d train_test_CV(\n    dataset_target, Y, GNN_3l, model_params, target \u003d TARGET, \n    class_weights \u003d class_weights,  edge_col_name\u003d\u0027edge_a_norm\u0027, \n    learning_rate\u003dLEARNING_RATE, e_patience \u003d E_PATIENCE, n_epochs\u003dN_EPOCHS)\n\nresults[\u0027model\u0027] \u003d \u0027GATConv\u0027\nresults[\u0027nb_layers\u0027] \u003d 3\nresults[\u0027edge_weight\u0027] \u003d False\nresults[\u0027edge_attr\u0027] \u003d True\nresults_df[\u0027edge_attr\u0027] \u003d False\n\nresults_df \u003d pd.concat([results_df, results], axis\u003d0)"
      ],
      "outputs": []
    },
    {
      "execution_count": 199,
      "cell_type": "code",
      "metadata": {
        "scrolled": true
      },
      "source": [
        "results_df"
      ],
      "outputs": [
        {
          "output_type": "execute_result",
          "metadata": {},
          "data": {
            "text/plain": "   loss_mean  train_score_mean  test_score_mean  time_mean  loss_std  train_score_std  test_score_std  time_std    model  nb_layers  edge_weight  edge_attr\n0   0.489916          0.749086         0.741056   2.206384  0.007948         0.041765        0.058838  0.181900  GCNConv          2        False      False\n0   0.506232          0.714801         0.709096   2.486684  0.011140         0.069543        0.056365  0.342520  GATConv          2        False      False\n0   0.462576          0.778957         0.776862   3.468169  0.032716         0.042906        0.037108  0.908766  GCNConv          3        False      False\n0   0.490190          0.704971         0.687195   3.104505  0.017238         0.023007        0.022712  0.209168  GCNConv          3         True      False\n0   0.435221          0.802822         0.797527   7.912181  0.014868         0.019057        0.003241  1.658081  GATConv          3        False       True",
            "text/html": "\u003cdiv\u003e\n\u003cstyle scoped\u003e\n    .dataframe tbody tr th:only-of-type {\n        vertical-align: middle;\n    }\n\n    .dataframe tbody tr th {\n        vertical-align: top;\n    }\n\n    .dataframe thead th {\n        text-align: right;\n    }\n\u003c/style\u003e\n\u003ctable border\u003d\"1\" class\u003d\"dataframe\"\u003e\n  \u003cthead\u003e\n    \u003ctr style\u003d\"text-align: right;\"\u003e\n      \u003cth\u003e\u003c/th\u003e\n      \u003cth\u003eloss_mean\u003c/th\u003e\n      \u003cth\u003etrain_score_mean\u003c/th\u003e\n      \u003cth\u003etest_score_mean\u003c/th\u003e\n      \u003cth\u003etime_mean\u003c/th\u003e\n      \u003cth\u003eloss_std\u003c/th\u003e\n      \u003cth\u003etrain_score_std\u003c/th\u003e\n      \u003cth\u003etest_score_std\u003c/th\u003e\n      \u003cth\u003etime_std\u003c/th\u003e\n      \u003cth\u003emodel\u003c/th\u003e\n      \u003cth\u003enb_layers\u003c/th\u003e\n      \u003cth\u003eedge_weight\u003c/th\u003e\n      \u003cth\u003eedge_attr\u003c/th\u003e\n    \u003c/tr\u003e\n  \u003c/thead\u003e\n  \u003ctbody\u003e\n    \u003ctr\u003e\n      \u003cth\u003e0\u003c/th\u003e\n      \u003ctd\u003e0.489916\u003c/td\u003e\n      \u003ctd\u003e0.749086\u003c/td\u003e\n      \u003ctd\u003e0.741056\u003c/td\u003e\n      \u003ctd\u003e2.206384\u003c/td\u003e\n      \u003ctd\u003e0.007948\u003c/td\u003e\n      \u003ctd\u003e0.041765\u003c/td\u003e\n      \u003ctd\u003e0.058838\u003c/td\u003e\n      \u003ctd\u003e0.181900\u003c/td\u003e\n      \u003ctd\u003eGCNConv\u003c/td\u003e\n      \u003ctd\u003e2\u003c/td\u003e\n      \u003ctd\u003eFalse\u003c/td\u003e\n      \u003ctd\u003eFalse\u003c/td\u003e\n    \u003c/tr\u003e\n    \u003ctr\u003e\n      \u003cth\u003e0\u003c/th\u003e\n      \u003ctd\u003e0.506232\u003c/td\u003e\n      \u003ctd\u003e0.714801\u003c/td\u003e\n      \u003ctd\u003e0.709096\u003c/td\u003e\n      \u003ctd\u003e2.486684\u003c/td\u003e\n      \u003ctd\u003e0.011140\u003c/td\u003e\n      \u003ctd\u003e0.069543\u003c/td\u003e\n      \u003ctd\u003e0.056365\u003c/td\u003e\n      \u003ctd\u003e0.342520\u003c/td\u003e\n      \u003ctd\u003eGATConv\u003c/td\u003e\n      \u003ctd\u003e2\u003c/td\u003e\n      \u003ctd\u003eFalse\u003c/td\u003e\n      \u003ctd\u003eFalse\u003c/td\u003e\n    \u003c/tr\u003e\n    \u003ctr\u003e\n      \u003cth\u003e0\u003c/th\u003e\n      \u003ctd\u003e0.462576\u003c/td\u003e\n      \u003ctd\u003e0.778957\u003c/td\u003e\n      \u003ctd\u003e0.776862\u003c/td\u003e\n      \u003ctd\u003e3.468169\u003c/td\u003e\n      \u003ctd\u003e0.032716\u003c/td\u003e\n      \u003ctd\u003e0.042906\u003c/td\u003e\n      \u003ctd\u003e0.037108\u003c/td\u003e\n      \u003ctd\u003e0.908766\u003c/td\u003e\n      \u003ctd\u003eGCNConv\u003c/td\u003e\n      \u003ctd\u003e3\u003c/td\u003e\n      \u003ctd\u003eFalse\u003c/td\u003e\n      \u003ctd\u003eFalse\u003c/td\u003e\n    \u003c/tr\u003e\n    \u003ctr\u003e\n      \u003cth\u003e0\u003c/th\u003e\n      \u003ctd\u003e0.490190\u003c/td\u003e\n      \u003ctd\u003e0.704971\u003c/td\u003e\n      \u003ctd\u003e0.687195\u003c/td\u003e\n      \u003ctd\u003e3.104505\u003c/td\u003e\n      \u003ctd\u003e0.017238\u003c/td\u003e\n      \u003ctd\u003e0.023007\u003c/td\u003e\n      \u003ctd\u003e0.022712\u003c/td\u003e\n      \u003ctd\u003e0.209168\u003c/td\u003e\n      \u003ctd\u003eGCNConv\u003c/td\u003e\n      \u003ctd\u003e3\u003c/td\u003e\n      \u003ctd\u003eTrue\u003c/td\u003e\n      \u003ctd\u003eFalse\u003c/td\u003e\n    \u003c/tr\u003e\n    \u003ctr\u003e\n      \u003cth\u003e0\u003c/th\u003e\n      \u003ctd\u003e0.435221\u003c/td\u003e\n      \u003ctd\u003e0.802822\u003c/td\u003e\n      \u003ctd\u003e0.797527\u003c/td\u003e\n      \u003ctd\u003e7.912181\u003c/td\u003e\n      \u003ctd\u003e0.014868\u003c/td\u003e\n      \u003ctd\u003e0.019057\u003c/td\u003e\n      \u003ctd\u003e0.003241\u003c/td\u003e\n      \u003ctd\u003e1.658081\u003c/td\u003e\n      \u003ctd\u003eGATConv\u003c/td\u003e\n      \u003ctd\u003e3\u003c/td\u003e\n      \u003ctd\u003eFalse\u003c/td\u003e\n      \u003ctd\u003eTrue\u003c/td\u003e\n    \u003c/tr\u003e\n  \u003c/tbody\u003e\n\u003c/table\u003e\n\u003c/div\u003e"
          },
          "execution_count": 199
        }
      ]
    },
    {
      "execution_count": 200,
      "cell_type": "code",
      "metadata": {},
      "source": [
        "y_pred, y_true \u003d [], []\n\nmodel.eval()\nfor data in test_dataset:\n    out \u003d  model(data.x_norm, data.edge_index, batch\u003dNone) \n    y_pred +\u003d [out.argmax(dim\u003d1).detach().numpy()]\n    y_true +\u003d [data.y[:,TARGET].long().cpu().detach().numpy()]\n\nprint(metrics.classification_report(y_true, y_pred))\n\nmodel_metrics \u003d {\n    \u0027accuracy\u0027: metrics.accuracy_score(y_true, y_pred),\n    \u0027precision\u0027:  metrics.precision_score(y_true, y_pred),\n    \u0027recall\u0027:  metrics.recall_score(y_true, y_pred),\n    \u0027f1-recall\u0027:  metrics.recall_score(y_true, y_pred),\n}\n\nmodel_metrics"
      ],
      "outputs": [
        {
          "output_type": "stream",
          "name": "stdout",
          "text": "              precision    recall  f1-score   support\n\n           0       0.92      0.87      0.90      1446\n           1       0.32      0.44      0.37       192\n\n    accuracy                           0.82      1638\n   macro avg       0.62      0.66      0.63      1638\nweighted avg       0.85      0.82      0.84      1638\n\n"
        },
        {
          "output_type": "execute_result",
          "metadata": {},
          "data": {
            "text/plain": "{\u0027accuracy\u0027: 0.8229548229548229,\n \u0027precision\u0027: 0.31716417910447764,\n \u0027recall\u0027: 0.4427083333333333,\n \u0027f1-recall\u0027: 0.4427083333333333}"
          },
          "execution_count": 200
        }
      ]
    },
    {
      "execution_count": 201,
      "cell_type": "code",
      "metadata": {},
      "source": [
        "results_df \u003d results_df.sort_values(by\u003d\u0027test_score_mean\u0027,ascending\u003dFalse).reset_index(drop\u003dTrue)\nresults_df"
      ],
      "outputs": [
        {
          "output_type": "execute_result",
          "metadata": {},
          "data": {
            "text/plain": "   loss_mean  train_score_mean  test_score_mean  time_mean  loss_std  train_score_std  test_score_std  time_std    model  nb_layers  edge_weight  edge_attr\n0   0.435221          0.802822         0.797527   7.912181  0.014868         0.019057        0.003241  1.658081  GATConv          3        False       True\n1   0.462576          0.778957         0.776862   3.468169  0.032716         0.042906        0.037108  0.908766  GCNConv          3        False      False\n2   0.489916          0.749086         0.741056   2.206384  0.007948         0.041765        0.058838  0.181900  GCNConv          2        False      False\n3   0.506232          0.714801         0.709096   2.486684  0.011140         0.069543        0.056365  0.342520  GATConv          2        False      False\n4   0.490190          0.704971         0.687195   3.104505  0.017238         0.023007        0.022712  0.209168  GCNConv          3         True      False",
            "text/html": "\u003cdiv\u003e\n\u003cstyle scoped\u003e\n    .dataframe tbody tr th:only-of-type {\n        vertical-align: middle;\n    }\n\n    .dataframe tbody tr th {\n        vertical-align: top;\n    }\n\n    .dataframe thead th {\n        text-align: right;\n    }\n\u003c/style\u003e\n\u003ctable border\u003d\"1\" class\u003d\"dataframe\"\u003e\n  \u003cthead\u003e\n    \u003ctr style\u003d\"text-align: right;\"\u003e\n      \u003cth\u003e\u003c/th\u003e\n      \u003cth\u003eloss_mean\u003c/th\u003e\n      \u003cth\u003etrain_score_mean\u003c/th\u003e\n      \u003cth\u003etest_score_mean\u003c/th\u003e\n      \u003cth\u003etime_mean\u003c/th\u003e\n      \u003cth\u003eloss_std\u003c/th\u003e\n      \u003cth\u003etrain_score_std\u003c/th\u003e\n      \u003cth\u003etest_score_std\u003c/th\u003e\n      \u003cth\u003etime_std\u003c/th\u003e\n      \u003cth\u003emodel\u003c/th\u003e\n      \u003cth\u003enb_layers\u003c/th\u003e\n      \u003cth\u003eedge_weight\u003c/th\u003e\n      \u003cth\u003eedge_attr\u003c/th\u003e\n    \u003c/tr\u003e\n  \u003c/thead\u003e\n  \u003ctbody\u003e\n    \u003ctr\u003e\n      \u003cth\u003e0\u003c/th\u003e\n      \u003ctd\u003e0.435221\u003c/td\u003e\n      \u003ctd\u003e0.802822\u003c/td\u003e\n      \u003ctd\u003e0.797527\u003c/td\u003e\n      \u003ctd\u003e7.912181\u003c/td\u003e\n      \u003ctd\u003e0.014868\u003c/td\u003e\n      \u003ctd\u003e0.019057\u003c/td\u003e\n      \u003ctd\u003e0.003241\u003c/td\u003e\n      \u003ctd\u003e1.658081\u003c/td\u003e\n      \u003ctd\u003eGATConv\u003c/td\u003e\n      \u003ctd\u003e3\u003c/td\u003e\n      \u003ctd\u003eFalse\u003c/td\u003e\n      \u003ctd\u003eTrue\u003c/td\u003e\n    \u003c/tr\u003e\n    \u003ctr\u003e\n      \u003cth\u003e1\u003c/th\u003e\n      \u003ctd\u003e0.462576\u003c/td\u003e\n      \u003ctd\u003e0.778957\u003c/td\u003e\n      \u003ctd\u003e0.776862\u003c/td\u003e\n      \u003ctd\u003e3.468169\u003c/td\u003e\n      \u003ctd\u003e0.032716\u003c/td\u003e\n      \u003ctd\u003e0.042906\u003c/td\u003e\n      \u003ctd\u003e0.037108\u003c/td\u003e\n      \u003ctd\u003e0.908766\u003c/td\u003e\n      \u003ctd\u003eGCNConv\u003c/td\u003e\n      \u003ctd\u003e3\u003c/td\u003e\n      \u003ctd\u003eFalse\u003c/td\u003e\n      \u003ctd\u003eFalse\u003c/td\u003e\n    \u003c/tr\u003e\n    \u003ctr\u003e\n      \u003cth\u003e2\u003c/th\u003e\n      \u003ctd\u003e0.489916\u003c/td\u003e\n      \u003ctd\u003e0.749086\u003c/td\u003e\n      \u003ctd\u003e0.741056\u003c/td\u003e\n      \u003ctd\u003e2.206384\u003c/td\u003e\n      \u003ctd\u003e0.007948\u003c/td\u003e\n      \u003ctd\u003e0.041765\u003c/td\u003e\n      \u003ctd\u003e0.058838\u003c/td\u003e\n      \u003ctd\u003e0.181900\u003c/td\u003e\n      \u003ctd\u003eGCNConv\u003c/td\u003e\n      \u003ctd\u003e2\u003c/td\u003e\n      \u003ctd\u003eFalse\u003c/td\u003e\n      \u003ctd\u003eFalse\u003c/td\u003e\n    \u003c/tr\u003e\n    \u003ctr\u003e\n      \u003cth\u003e3\u003c/th\u003e\n      \u003ctd\u003e0.506232\u003c/td\u003e\n      \u003ctd\u003e0.714801\u003c/td\u003e\n      \u003ctd\u003e0.709096\u003c/td\u003e\n      \u003ctd\u003e2.486684\u003c/td\u003e\n      \u003ctd\u003e0.011140\u003c/td\u003e\n      \u003ctd\u003e0.069543\u003c/td\u003e\n      \u003ctd\u003e0.056365\u003c/td\u003e\n      \u003ctd\u003e0.342520\u003c/td\u003e\n      \u003ctd\u003eGATConv\u003c/td\u003e\n      \u003ctd\u003e2\u003c/td\u003e\n      \u003ctd\u003eFalse\u003c/td\u003e\n      \u003ctd\u003eFalse\u003c/td\u003e\n    \u003c/tr\u003e\n    \u003ctr\u003e\n      \u003cth\u003e4\u003c/th\u003e\n      \u003ctd\u003e0.490190\u003c/td\u003e\n      \u003ctd\u003e0.704971\u003c/td\u003e\n      \u003ctd\u003e0.687195\u003c/td\u003e\n      \u003ctd\u003e3.104505\u003c/td\u003e\n      \u003ctd\u003e0.017238\u003c/td\u003e\n      \u003ctd\u003e0.023007\u003c/td\u003e\n      \u003ctd\u003e0.022712\u003c/td\u003e\n      \u003ctd\u003e0.209168\u003c/td\u003e\n      \u003ctd\u003eGCNConv\u003c/td\u003e\n      \u003ctd\u003e3\u003c/td\u003e\n      \u003ctd\u003eTrue\u003c/td\u003e\n      \u003ctd\u003eFalse\u003c/td\u003e\n    \u003c/tr\u003e\n  \u003c/tbody\u003e\n\u003c/table\u003e\n\u003c/div\u003e"
          },
          "execution_count": 201
        }
      ]
    },
    {
      "cell_type": "markdown",
      "metadata": {},
      "source": [
        "### 2.3. Tuning model hyperparameters for all targets \u003ca class\u003d\"anchor\" id\u003d\"section23\"\u003e\u003c/a\u003e"
      ]
    },
    {
      "execution_count": 181,
      "cell_type": "code",
      "metadata": {},
      "source": [
        "hidden_channels \u003d [32, 64]#, 16]\nconvs \u003d [GATConv, GCNConv]#, SAGEConv]\nlearning_rates \u003d [0.01]#, 0.05]\nn_layers \u003d [2]#,3]\nwith_edge_data \u003d [True, False]"
      ],
      "outputs": []
    },
    {
      "execution_count": 180,
      "cell_type": "code",
      "metadata": {
        "code_folding": [
          0
        ]
      },
      "source": [
        "def run_grid_search_target(target, hidden_channels, convs, \n                           learning_rates, n_layers, with_edge_data,\n                           random_state\u003d0\n                          ):\n    dataset_target, Y \u003d [], []\n\n    for i in range(len(dataset_new)):\n        if not(dataset_new[i][\u0027y\u0027][0,target].isnan()):\n            Y.append(dataset_new[i][\u0027y\u0027][0,target])\n            dataset_target.append(dataset_new[i])\n\n    Y \u003d pd.DataFrame([y.numpy() for y in Y]).reset_index().rename(columns\u003d{0:\u0027target\u0027})\n    class_weights \u003d torch.tensor([Y.target.mean(), 1-Y.target.mean()])\n    train_dataset, test_dataset \u003d split_dataset(dataset_target, Y)\n    \n    n_sc \u003d len(hidden_channels)*len(learning_rates)*len(convs)*len(n_layers)*len(with_edge_data)\n\n    i\u003d0\n\n    for hc, lr, c, n, ed in product(hidden_channels, learning_rates, convs, n_layers, with_edge_data):\n        print()\n        print(\u0027Sc: {}/{}\u0027.format(i+1, n_sc))\n        name_conv \u003d str(c).split(\u0027.\u0027)[-1].replace(\u0027\\\u0027\u003e\u0027, \"\")\n        print({\u0027hidden_channels\u0027:hc, \u0027learning_rate\u0027: lr, \n               \u0027conv\u0027:name_conv, \u0027n_layers\u0027:n, \u0027with_edge_data\u0027: True})\n\n        model_params \u003d {\"input_size\":17, \u0027hidden_channels\u0027:hc, \u0027conv\u0027:c}\n        \n        algo \u003d GNN if n \u003d\u003d 2 else GNN_3l\n        \n        if not(ed):\n            edge_col_name \u003d None\n            run_flag \u003d True\n        else:\n            if name_conv \u003d\u003d \"GCNConv\":\n                edge_col_name \u003d \"edge_w_norm\"\n                run_flag \u003d True\n            elif name_conv \u003d\u003d \"GATConv\":\n                edge_col_name \u003d \"edge_a_norm\"\n                model_params[\u0027conv_params\u0027] \u003d {\u0027edge_dim\u0027:5}\n                run_flag \u003d True\n            else:\n                run_flag \u003d False\n        \n        if run_flag:\n            \n            model, results \u003d train_test_CV(\n                dataset_target, Y, algo, model_params, target \u003d target, \n                class_weights \u003d class_weights, edge_col_name \u003d edge_col_name,\n                learning_rate\u003dlr, e_patience \u003d E_PATIENCE, n_epochs\u003dN_EPOCHS)\n\n            results[\u0027model\u0027] \u003d name_conv\n            results[\u0027hc\u0027] \u003d hc\n            results[\u0027lr\u0027] \u003d lr\n            results[\u0027n_layers\u0027] \u003d n\n            results[\u0027with_edge_data\u0027] \u003d ed\n\n            results_df \u003d results if i\u003d\u003d0 else pd.concat([results_df, results], axis\u003d0)\n            results_df.reset_index(drop\u003dTrue, inplace\u003dTrue)\n            \n\n            display(results_df)\n\n            i+\u003d1\n\n    if i\u003e0:\n        results_df[\u0027target\u0027] \u003d target\n        results_df[\u0027perc_class\u0027] \u003d Y.target.mean()\n        cols \u003d [\u0027target\u0027, \u0027model\u0027, \u0027hc\u0027, \u0027lr\u0027]\n        results_df \u003d results_df[\n            cols+[c for c in results_df.columns if c not in cols]\n        ].sort_values(by\u003d\u0027test_score_mean\u0027).reset_index(drop\u003dTrue)\n\n        return results_df"
      ],
      "outputs": []
    },
    {
      "execution_count": 0,
      "cell_type": "code",
      "metadata": {
        "scrolled": true
      },
      "source": [
        "results_target \u003d run_grid_search_target(\n    TARGET, hidden_channels, convs, learning_rates, n_layers, with_edge_data)"
      ],
      "outputs": []
    },
    {
      "execution_count": 0,
      "cell_type": "code",
      "metadata": {
        "scrolled": true,
        "code_folding": [
          4
        ]
      },
      "source": [
        "for target in range(0,12):\n    print(\u0027Target {}/{}\u0027.format(target+1, 12))\n    results_target \u003d run_grid_search_target(\n        target, hidden_channels, convs, learning_rates, n_layers, with_edge_data)\n    results_all_targets \u003d results_target if target \u003d\u003d 0 else pd.concat([results_target, results_all_targets], axis\u003d0)\n    \n    results_all_targets.reset_index(drop\u003dTrue, inplace\u003dTrue)\n    \n    display(results_all_targets)\n    print(\u0027---\u0027*10)"
      ],
      "outputs": []
    },
    {
      "execution_count": 85,
      "cell_type": "code",
      "metadata": {},
      "source": [
        "tmp \u003d results_all_targets.groupby([\u0027target\u0027],as_index\u003dFalse).agg({\n    \u0027test_score_mean\u0027: max\n})"
      ],
      "outputs": []
    },
    {
      "execution_count": 130,
      "cell_type": "code",
      "metadata": {},
      "source": [
        "tmp2 \u003d tmp.merge(results_all_targets,how\u003d\u0027left\u0027, on \u003d [\u0027target\u0027, \u0027test_score_mean\u0027])\ntmp2 \u003d tmp2.merge(df_y1[[\u0027variable\u0027, \u0027count\u0027, \u0027missing_values\u0027]].rename(columns \u003d {\u0027variable\u0027 : \u0027target\u0027}), \n           on\u003d\u0027target\u0027,how\u003d\u0027left\u0027)\ntmp2"
      ],
      "outputs": [
        {
          "output_type": "execute_result",
          "metadata": {},
          "data": {
            "text/plain": "    target  test_score_mean    model  hc    lr  loss_mean  train_score_mean  time_mean  loss_std  train_score_std  test_score_std   time_std  n_layers  with_edge_data  perc_class  count  missing_values\n0        0         0.939532  GATConv  64  0.01   0.472631          0.948128   5.262704  0.012797         0.007279        0.005155   0.833050         2           False    0.042533   7265            7.23\n1        1         0.945556  GATConv  64  0.01   0.416286          0.954254  10.240985  0.012099         0.005343        0.012184   1.507740         2            True    0.035070   6758           13.70\n2        2         0.781090  GATConv  64  0.01   0.472442          0.788200   6.943089  0.020268         0.032355        0.029499   2.163584         2            True    0.117270   6549           16.37\n3        3         0.715171  GATConv  64  0.01   0.588105          0.709484   4.563357  0.027484         0.069081        0.080620   0.060398         2           False    0.051538   5821           25.67\n4        4         0.729468  GATConv  32  0.01   0.619103          0.734737  24.002594  0.004816         0.059256        0.057159  37.849962         2            True    0.128048   6193           20.92\n5        5         0.867473  GATConv  32  0.01   0.554279          0.873828   4.011731  0.017686         0.028834        0.027288   0.311135         2           False    0.050324   6955           11.19\n6        6         0.866820  GATConv  64  0.01   0.597352          0.886135   7.507061  0.017363         0.069025        0.082032   0.706358         2            True    0.028837   6450           17.64\n7        7         0.701852  GATConv  64  0.01   0.622510          0.715532   2.316201  0.008527         0.069056        0.087840   0.617670         2           False    0.161523   5832           25.53\n8        8         0.786785  GATConv  64  0.01   0.517056          0.791667  10.315760  0.007252         0.055956        0.057486   2.284335         2            True    0.037330   7072            9.69\n9        9         0.794424  GATConv  64  0.01   0.638297          0.787751   2.945926  0.008999         0.113912        0.115072   0.078851         2           False    0.057523   6467           17.42\n10      10         0.753024  GATConv  64  0.01   0.531682          0.752413   4.327817  0.041816         0.055876        0.047893   0.590271         2            True    0.158003   5810           25.81\n11      11         0.747302  GATConv  64  0.01   0.572498          0.757946   4.440744  0.014449         0.057279        0.051879   1.071562         2            True    0.062445   6774           13.50",
            "text/html": "\u003cdiv\u003e\n\u003cstyle scoped\u003e\n    .dataframe tbody tr th:only-of-type {\n        vertical-align: middle;\n    }\n\n    .dataframe tbody tr th {\n        vertical-align: top;\n    }\n\n    .dataframe thead th {\n        text-align: right;\n    }\n\u003c/style\u003e\n\u003ctable border\u003d\"1\" class\u003d\"dataframe\"\u003e\n  \u003cthead\u003e\n    \u003ctr style\u003d\"text-align: right;\"\u003e\n      \u003cth\u003e\u003c/th\u003e\n      \u003cth\u003etarget\u003c/th\u003e\n      \u003cth\u003etest_score_mean\u003c/th\u003e\n      \u003cth\u003emodel\u003c/th\u003e\n      \u003cth\u003ehc\u003c/th\u003e\n      \u003cth\u003elr\u003c/th\u003e\n      \u003cth\u003eloss_mean\u003c/th\u003e\n      \u003cth\u003etrain_score_mean\u003c/th\u003e\n      \u003cth\u003etime_mean\u003c/th\u003e\n      \u003cth\u003eloss_std\u003c/th\u003e\n      \u003cth\u003etrain_score_std\u003c/th\u003e\n      \u003cth\u003etest_score_std\u003c/th\u003e\n      \u003cth\u003etime_std\u003c/th\u003e\n      \u003cth\u003en_layers\u003c/th\u003e\n      \u003cth\u003ewith_edge_data\u003c/th\u003e\n      \u003cth\u003eperc_class\u003c/th\u003e\n      \u003cth\u003ecount\u003c/th\u003e\n      \u003cth\u003emissing_values\u003c/th\u003e\n    \u003c/tr\u003e\n  \u003c/thead\u003e\n  \u003ctbody\u003e\n    \u003ctr\u003e\n      \u003cth\u003e0\u003c/th\u003e\n      \u003ctd\u003e0\u003c/td\u003e\n      \u003ctd\u003e0.939532\u003c/td\u003e\n      \u003ctd\u003eGATConv\u003c/td\u003e\n      \u003ctd\u003e64\u003c/td\u003e\n      \u003ctd\u003e0.01\u003c/td\u003e\n      \u003ctd\u003e0.472631\u003c/td\u003e\n      \u003ctd\u003e0.948128\u003c/td\u003e\n      \u003ctd\u003e5.262704\u003c/td\u003e\n      \u003ctd\u003e0.012797\u003c/td\u003e\n      \u003ctd\u003e0.007279\u003c/td\u003e\n      \u003ctd\u003e0.005155\u003c/td\u003e\n      \u003ctd\u003e0.833050\u003c/td\u003e\n      \u003ctd\u003e2\u003c/td\u003e\n      \u003ctd\u003eFalse\u003c/td\u003e\n      \u003ctd\u003e0.042533\u003c/td\u003e\n      \u003ctd\u003e7265\u003c/td\u003e\n      \u003ctd\u003e7.23\u003c/td\u003e\n    \u003c/tr\u003e\n    \u003ctr\u003e\n      \u003cth\u003e1\u003c/th\u003e\n      \u003ctd\u003e1\u003c/td\u003e\n      \u003ctd\u003e0.945556\u003c/td\u003e\n      \u003ctd\u003eGATConv\u003c/td\u003e\n      \u003ctd\u003e64\u003c/td\u003e\n      \u003ctd\u003e0.01\u003c/td\u003e\n      \u003ctd\u003e0.416286\u003c/td\u003e\n      \u003ctd\u003e0.954254\u003c/td\u003e\n      \u003ctd\u003e10.240985\u003c/td\u003e\n      \u003ctd\u003e0.012099\u003c/td\u003e\n      \u003ctd\u003e0.005343\u003c/td\u003e\n      \u003ctd\u003e0.012184\u003c/td\u003e\n      \u003ctd\u003e1.507740\u003c/td\u003e\n      \u003ctd\u003e2\u003c/td\u003e\n      \u003ctd\u003eTrue\u003c/td\u003e\n      \u003ctd\u003e0.035070\u003c/td\u003e\n      \u003ctd\u003e6758\u003c/td\u003e\n      \u003ctd\u003e13.70\u003c/td\u003e\n    \u003c/tr\u003e\n    \u003ctr\u003e\n      \u003cth\u003e2\u003c/th\u003e\n      \u003ctd\u003e2\u003c/td\u003e\n      \u003ctd\u003e0.781090\u003c/td\u003e\n      \u003ctd\u003eGATConv\u003c/td\u003e\n      \u003ctd\u003e64\u003c/td\u003e\n      \u003ctd\u003e0.01\u003c/td\u003e\n      \u003ctd\u003e0.472442\u003c/td\u003e\n      \u003ctd\u003e0.788200\u003c/td\u003e\n      \u003ctd\u003e6.943089\u003c/td\u003e\n      \u003ctd\u003e0.020268\u003c/td\u003e\n      \u003ctd\u003e0.032355\u003c/td\u003e\n      \u003ctd\u003e0.029499\u003c/td\u003e\n      \u003ctd\u003e2.163584\u003c/td\u003e\n      \u003ctd\u003e2\u003c/td\u003e\n      \u003ctd\u003eTrue\u003c/td\u003e\n      \u003ctd\u003e0.117270\u003c/td\u003e\n      \u003ctd\u003e6549\u003c/td\u003e\n      \u003ctd\u003e16.37\u003c/td\u003e\n    \u003c/tr\u003e\n    \u003ctr\u003e\n      \u003cth\u003e3\u003c/th\u003e\n      \u003ctd\u003e3\u003c/td\u003e\n      \u003ctd\u003e0.715171\u003c/td\u003e\n      \u003ctd\u003eGATConv\u003c/td\u003e\n      \u003ctd\u003e64\u003c/td\u003e\n      \u003ctd\u003e0.01\u003c/td\u003e\n      \u003ctd\u003e0.588105\u003c/td\u003e\n      \u003ctd\u003e0.709484\u003c/td\u003e\n      \u003ctd\u003e4.563357\u003c/td\u003e\n      \u003ctd\u003e0.027484\u003c/td\u003e\n      \u003ctd\u003e0.069081\u003c/td\u003e\n      \u003ctd\u003e0.080620\u003c/td\u003e\n      \u003ctd\u003e0.060398\u003c/td\u003e\n      \u003ctd\u003e2\u003c/td\u003e\n      \u003ctd\u003eFalse\u003c/td\u003e\n      \u003ctd\u003e0.051538\u003c/td\u003e\n      \u003ctd\u003e5821\u003c/td\u003e\n      \u003ctd\u003e25.67\u003c/td\u003e\n    \u003c/tr\u003e\n    \u003ctr\u003e\n      \u003cth\u003e4\u003c/th\u003e\n      \u003ctd\u003e4\u003c/td\u003e\n      \u003ctd\u003e0.729468\u003c/td\u003e\n      \u003ctd\u003eGATConv\u003c/td\u003e\n      \u003ctd\u003e32\u003c/td\u003e\n      \u003ctd\u003e0.01\u003c/td\u003e\n      \u003ctd\u003e0.619103\u003c/td\u003e\n      \u003ctd\u003e0.734737\u003c/td\u003e\n      \u003ctd\u003e24.002594\u003c/td\u003e\n      \u003ctd\u003e0.004816\u003c/td\u003e\n      \u003ctd\u003e0.059256\u003c/td\u003e\n      \u003ctd\u003e0.057159\u003c/td\u003e\n      \u003ctd\u003e37.849962\u003c/td\u003e\n      \u003ctd\u003e2\u003c/td\u003e\n      \u003ctd\u003eTrue\u003c/td\u003e\n      \u003ctd\u003e0.128048\u003c/td\u003e\n      \u003ctd\u003e6193\u003c/td\u003e\n      \u003ctd\u003e20.92\u003c/td\u003e\n    \u003c/tr\u003e\n    \u003ctr\u003e\n      \u003cth\u003e5\u003c/th\u003e\n      \u003ctd\u003e5\u003c/td\u003e\n      \u003ctd\u003e0.867473\u003c/td\u003e\n      \u003ctd\u003eGATConv\u003c/td\u003e\n      \u003ctd\u003e32\u003c/td\u003e\n      \u003ctd\u003e0.01\u003c/td\u003e\n      \u003ctd\u003e0.554279\u003c/td\u003e\n      \u003ctd\u003e0.873828\u003c/td\u003e\n      \u003ctd\u003e4.011731\u003c/td\u003e\n      \u003ctd\u003e0.017686\u003c/td\u003e\n      \u003ctd\u003e0.028834\u003c/td\u003e\n      \u003ctd\u003e0.027288\u003c/td\u003e\n      \u003ctd\u003e0.311135\u003c/td\u003e\n      \u003ctd\u003e2\u003c/td\u003e\n      \u003ctd\u003eFalse\u003c/td\u003e\n      \u003ctd\u003e0.050324\u003c/td\u003e\n      \u003ctd\u003e6955\u003c/td\u003e\n      \u003ctd\u003e11.19\u003c/td\u003e\n    \u003c/tr\u003e\n    \u003ctr\u003e\n      \u003cth\u003e6\u003c/th\u003e\n      \u003ctd\u003e6\u003c/td\u003e\n      \u003ctd\u003e0.866820\u003c/td\u003e\n      \u003ctd\u003eGATConv\u003c/td\u003e\n      \u003ctd\u003e64\u003c/td\u003e\n      \u003ctd\u003e0.01\u003c/td\u003e\n      \u003ctd\u003e0.597352\u003c/td\u003e\n      \u003ctd\u003e0.886135\u003c/td\u003e\n      \u003ctd\u003e7.507061\u003c/td\u003e\n      \u003ctd\u003e0.017363\u003c/td\u003e\n      \u003ctd\u003e0.069025\u003c/td\u003e\n      \u003ctd\u003e0.082032\u003c/td\u003e\n      \u003ctd\u003e0.706358\u003c/td\u003e\n      \u003ctd\u003e2\u003c/td\u003e\n      \u003ctd\u003eTrue\u003c/td\u003e\n      \u003ctd\u003e0.028837\u003c/td\u003e\n      \u003ctd\u003e6450\u003c/td\u003e\n      \u003ctd\u003e17.64\u003c/td\u003e\n    \u003c/tr\u003e\n    \u003ctr\u003e\n      \u003cth\u003e7\u003c/th\u003e\n      \u003ctd\u003e7\u003c/td\u003e\n      \u003ctd\u003e0.701852\u003c/td\u003e\n      \u003ctd\u003eGATConv\u003c/td\u003e\n      \u003ctd\u003e64\u003c/td\u003e\n      \u003ctd\u003e0.01\u003c/td\u003e\n      \u003ctd\u003e0.622510\u003c/td\u003e\n      \u003ctd\u003e0.715532\u003c/td\u003e\n      \u003ctd\u003e2.316201\u003c/td\u003e\n      \u003ctd\u003e0.008527\u003c/td\u003e\n      \u003ctd\u003e0.069056\u003c/td\u003e\n      \u003ctd\u003e0.087840\u003c/td\u003e\n      \u003ctd\u003e0.617670\u003c/td\u003e\n      \u003ctd\u003e2\u003c/td\u003e\n      \u003ctd\u003eFalse\u003c/td\u003e\n      \u003ctd\u003e0.161523\u003c/td\u003e\n      \u003ctd\u003e5832\u003c/td\u003e\n      \u003ctd\u003e25.53\u003c/td\u003e\n    \u003c/tr\u003e\n    \u003ctr\u003e\n      \u003cth\u003e8\u003c/th\u003e\n      \u003ctd\u003e8\u003c/td\u003e\n      \u003ctd\u003e0.786785\u003c/td\u003e\n      \u003ctd\u003eGATConv\u003c/td\u003e\n      \u003ctd\u003e64\u003c/td\u003e\n      \u003ctd\u003e0.01\u003c/td\u003e\n      \u003ctd\u003e0.517056\u003c/td\u003e\n      \u003ctd\u003e0.791667\u003c/td\u003e\n      \u003ctd\u003e10.315760\u003c/td\u003e\n      \u003ctd\u003e0.007252\u003c/td\u003e\n      \u003ctd\u003e0.055956\u003c/td\u003e\n      \u003ctd\u003e0.057486\u003c/td\u003e\n      \u003ctd\u003e2.284335\u003c/td\u003e\n      \u003ctd\u003e2\u003c/td\u003e\n      \u003ctd\u003eTrue\u003c/td\u003e\n      \u003ctd\u003e0.037330\u003c/td\u003e\n      \u003ctd\u003e7072\u003c/td\u003e\n      \u003ctd\u003e9.69\u003c/td\u003e\n    \u003c/tr\u003e\n    \u003ctr\u003e\n      \u003cth\u003e9\u003c/th\u003e\n      \u003ctd\u003e9\u003c/td\u003e\n      \u003ctd\u003e0.794424\u003c/td\u003e\n      \u003ctd\u003eGATConv\u003c/td\u003e\n      \u003ctd\u003e64\u003c/td\u003e\n      \u003ctd\u003e0.01\u003c/td\u003e\n      \u003ctd\u003e0.638297\u003c/td\u003e\n      \u003ctd\u003e0.787751\u003c/td\u003e\n      \u003ctd\u003e2.945926\u003c/td\u003e\n      \u003ctd\u003e0.008999\u003c/td\u003e\n      \u003ctd\u003e0.113912\u003c/td\u003e\n      \u003ctd\u003e0.115072\u003c/td\u003e\n      \u003ctd\u003e0.078851\u003c/td\u003e\n      \u003ctd\u003e2\u003c/td\u003e\n      \u003ctd\u003eFalse\u003c/td\u003e\n      \u003ctd\u003e0.057523\u003c/td\u003e\n      \u003ctd\u003e6467\u003c/td\u003e\n      \u003ctd\u003e17.42\u003c/td\u003e\n    \u003c/tr\u003e\n    \u003ctr\u003e\n      \u003cth\u003e10\u003c/th\u003e\n      \u003ctd\u003e10\u003c/td\u003e\n      \u003ctd\u003e0.753024\u003c/td\u003e\n      \u003ctd\u003eGATConv\u003c/td\u003e\n      \u003ctd\u003e64\u003c/td\u003e\n      \u003ctd\u003e0.01\u003c/td\u003e\n      \u003ctd\u003e0.531682\u003c/td\u003e\n      \u003ctd\u003e0.752413\u003c/td\u003e\n      \u003ctd\u003e4.327817\u003c/td\u003e\n      \u003ctd\u003e0.041816\u003c/td\u003e\n      \u003ctd\u003e0.055876\u003c/td\u003e\n      \u003ctd\u003e0.047893\u003c/td\u003e\n      \u003ctd\u003e0.590271\u003c/td\u003e\n      \u003ctd\u003e2\u003c/td\u003e\n      \u003ctd\u003eTrue\u003c/td\u003e\n      \u003ctd\u003e0.158003\u003c/td\u003e\n      \u003ctd\u003e5810\u003c/td\u003e\n      \u003ctd\u003e25.81\u003c/td\u003e\n    \u003c/tr\u003e\n    \u003ctr\u003e\n      \u003cth\u003e11\u003c/th\u003e\n      \u003ctd\u003e11\u003c/td\u003e\n      \u003ctd\u003e0.747302\u003c/td\u003e\n      \u003ctd\u003eGATConv\u003c/td\u003e\n      \u003ctd\u003e64\u003c/td\u003e\n      \u003ctd\u003e0.01\u003c/td\u003e\n      \u003ctd\u003e0.572498\u003c/td\u003e\n      \u003ctd\u003e0.757946\u003c/td\u003e\n      \u003ctd\u003e4.440744\u003c/td\u003e\n      \u003ctd\u003e0.014449\u003c/td\u003e\n      \u003ctd\u003e0.057279\u003c/td\u003e\n      \u003ctd\u003e0.051879\u003c/td\u003e\n      \u003ctd\u003e1.071562\u003c/td\u003e\n      \u003ctd\u003e2\u003c/td\u003e\n      \u003ctd\u003eTrue\u003c/td\u003e\n      \u003ctd\u003e0.062445\u003c/td\u003e\n      \u003ctd\u003e6774\u003c/td\u003e\n      \u003ctd\u003e13.50\u003c/td\u003e\n    \u003c/tr\u003e\n  \u003c/tbody\u003e\n\u003c/table\u003e\n\u003c/div\u003e"
          },
          "execution_count": 130
        }
      ]
    },
    {
      "execution_count": 0,
      "cell_type": "code",
      "metadata": {
        "scrolled": true
      },
      "source": [
        "import plotly.graph_objects as go\n\nfig \u003d go.Figure()\nfig.add_trace(go.Bar(\n    x\u003dtmp2.target, y\u003dtmp2.test_score_mean, marker_color\u003d\u0027#DBEDF3\u0027,\n    error_y\u003ddict(type\u003d\u0027data\u0027, array\u003dtmp2.test_score_std*2, color\u003d\"#404B69\")\n))\n\nfig.update_layout(barmode\u003d\u0027group\u0027)\nfig.update_yaxes(title_text\u003d\u0027Accuracy on test set\u0027)\nfig.update_xaxes(tickmode\u003d\u0027linear\u0027, title_text\u003d\"Experiments (target indices)\")\n\nfig.update_layout(width\u003d950, height\u003d450)"
      ],
      "outputs": []
    },
    {
      "execution_count": 0,
      "cell_type": "code",
      "metadata": {},
      "source": [
        "tmp2[\u0027test_score_mean\u0027]*\u003d100\ntmp2[\u0027perc_class\u0027]*\u003d100\ntmp2[\u0027perc_values\u0027] \u003d tmp2[\u0027missing_values\u0027].apply(lambda x: 100-x)"
      ],
      "outputs": []
    },
    {
      "execution_count": 0,
      "cell_type": "code",
      "metadata": {
        "scrolled": true
      },
      "source": [
        "fig \u003d px.scatter(\n    tmp2, size\u003d\u0027perc_values\u0027, y\u003d\u0027test_score_mean\u0027, x \u003d \u0027perc_class\u0027,color_discrete_sequence\u003d[\u0027#F73859\u0027])\n\nfig.update_yaxes(range\u003d[0,100],title\u003d\u0027Accuracy on test set\u0027)\nfig.update_xaxes(range\u003d[0,20],title\u003d\u0027% positive class\u0027)\n\nfig.update_layout(width\u003d700, height\u003d450)"
      ],
      "outputs": []
    },
    {
      "cell_type": "markdown",
      "metadata": {},
      "source": [
        "## 3. Explainability \u003ca class\u003d\"anchor\" id\u003d\"section3\"\u003e\u003c/a\u003e"
      ]
    },
    {
      "execution_count": 0,
      "cell_type": "code",
      "metadata": {},
      "source": [
        "atoms \u003d pd.read_csv(os.path.join(folder.get_path(),\u0027atoms.csv\u0027))\natoms.index \u003d atoms.atomic_number\natoms \u003d atoms[\u0027atom\u0027].to_dict()"
      ],
      "outputs": []
    },
    {
      "execution_count": 271,
      "cell_type": "code",
      "metadata": {},
      "source": [
        "import networkx as nx\nimport numpy as np\nimport matplotlib.pyplot as plt\nfrom torch_geometric.nn import GNNExplainer\n\nfrom torch_geometric.utils import to_networkx\n\ndef draw_molecule(g, edge_index \u003d None, edge_mask\u003dNone, draw_edge_labels\u003dFalse):\n    g \u003d g.copy().to_undirected()\n    node_labels \u003d {}\n    for u, data in g.nodes(data\u003dTrue):\n        node_labels[u] \u003d data[\u0027name\u0027]\n    pos \u003d nx.planar_layout(g)\n    pos \u003d nx.spring_layout(g, pos\u003dpos)\n    if edge_mask is None:\n        edge_color \u003d \u0027black\u0027\n        widths \u003d None\n    else:\n        edge_mask_new \u003d {}\n        for i in range(edge_index.shape[1]):\n            edge_mask_new[(edge_index[0][i], edge_index[1][i])] \u003d edge_mask[i]\n        edge_color \u003d [edge_mask_new[(u, v)] for u, v in g.edges()]\n        widths \u003d [x * 3 for x in edge_color]\n    \n    nx.draw(g, pos\u003dpos, labels\u003dnode_labels, width\u003dwidths,\n            edge_color\u003dedge_color, edge_cmap\u003dplt.cm.RdYlGn_r,\n            node_color\u003d\u0027pink\u0027)\n    \n    plt.show()\n    \ndef to_molecule(data):\n    g \u003d to_networkx(data, node_attrs\u003d[\u0027x\u0027])\n    for u, data in g.nodes(data\u003dTrue):\n        data[\u0027name\u0027] \u003d atoms[data[\u0027x\u0027][0]]\n        del data[\u0027x\u0027]\n    return g"
      ],
      "outputs": []
    },
    {
      "execution_count": 267,
      "cell_type": "code",
      "metadata": {},
      "source": [
        "graph_idx \u003d np.random.randint(len(test_dataset))\ndata \u003d test_dataset[graph_idx]\n\nx, edge_index \u003d data.x_norm, data.edge_index\nexplainer \u003d GNNExplainer(model, epochs\u003d300)\nnode_feat_mask, edge_mask \u003d explainer.explain_graph(x, edge_index)"
      ],
      "outputs": [
        {
          "output_type": "stream",
          "name": "stderr",
          "text": "Explain graph: 100%|██████████| 300/300 [00:01\u003c00:00, 223.41it/s]\n"
        }
      ]
    },
    {
      "execution_count": 268,
      "cell_type": "code",
      "metadata": {
        "scrolled": true
      },
      "source": [
        "node_feat_df \u003d pd.DataFrame(node_feat_mask.cpu().detach().numpy(), columns\u003d[\u0027feature\u0027])\nnode_feat_df.index \u003d [\n    \u0027atomic_num\u0027, \u0027chirality_0\u0027, \u0027chirality_1\u0027,\u0027chirality_2\u0027,\n    \u0027degree\u0027, \u0027formal_charge\u0027, \u0027numH\u0027, \u0027number_radical_e\u0027, \n    \u0027hybridization_0\u0027, \u0027hybridization_1\u0027, \u0027hybridization_2\u0027, \n    \u0027hybridization_3\u0027, \u0027hybridization_4\u0027, \u0027hybridization_5\u0027, \n    \u0027hybridization_6\u0027,\u0027is_aromatic\u0027, \u0027is_in_ring\u0027\n]\nnode_feat_df.sort_values(by\u003d\u0027feature\u0027,ascending\u003dFalse)"
      ],
      "outputs": [
        {
          "output_type": "execute_result",
          "metadata": {},
          "data": {
            "text/plain": "                   feature\natomic_num        0.817799\nchirality_0       0.543611\nchirality_2       0.534136\nformal_charge     0.316306\nnumH              0.259285\nhybridization_6   0.226201\nchirality_1       0.161471\nnumber_radical_e  0.157217\nhybridization_5   0.148312\nhybridization_4   0.089851\nis_in_ring        0.089656\nis_aromatic       0.088324\nhybridization_0   0.085188\nhybridization_2   0.082042\ndegree            0.078771\nhybridization_3   0.077907\nhybridization_1   0.071799",
            "text/html": "\u003cdiv\u003e\n\u003cstyle scoped\u003e\n    .dataframe tbody tr th:only-of-type {\n        vertical-align: middle;\n    }\n\n    .dataframe tbody tr th {\n        vertical-align: top;\n    }\n\n    .dataframe thead th {\n        text-align: right;\n    }\n\u003c/style\u003e\n\u003ctable border\u003d\"1\" class\u003d\"dataframe\"\u003e\n  \u003cthead\u003e\n    \u003ctr style\u003d\"text-align: right;\"\u003e\n      \u003cth\u003e\u003c/th\u003e\n      \u003cth\u003efeature\u003c/th\u003e\n    \u003c/tr\u003e\n  \u003c/thead\u003e\n  \u003ctbody\u003e\n    \u003ctr\u003e\n      \u003cth\u003eatomic_num\u003c/th\u003e\n      \u003ctd\u003e0.817799\u003c/td\u003e\n    \u003c/tr\u003e\n    \u003ctr\u003e\n      \u003cth\u003echirality_0\u003c/th\u003e\n      \u003ctd\u003e0.543611\u003c/td\u003e\n    \u003c/tr\u003e\n    \u003ctr\u003e\n      \u003cth\u003echirality_2\u003c/th\u003e\n      \u003ctd\u003e0.534136\u003c/td\u003e\n    \u003c/tr\u003e\n    \u003ctr\u003e\n      \u003cth\u003eformal_charge\u003c/th\u003e\n      \u003ctd\u003e0.316306\u003c/td\u003e\n    \u003c/tr\u003e\n    \u003ctr\u003e\n      \u003cth\u003enumH\u003c/th\u003e\n      \u003ctd\u003e0.259285\u003c/td\u003e\n    \u003c/tr\u003e\n    \u003ctr\u003e\n      \u003cth\u003ehybridization_6\u003c/th\u003e\n      \u003ctd\u003e0.226201\u003c/td\u003e\n    \u003c/tr\u003e\n    \u003ctr\u003e\n      \u003cth\u003echirality_1\u003c/th\u003e\n      \u003ctd\u003e0.161471\u003c/td\u003e\n    \u003c/tr\u003e\n    \u003ctr\u003e\n      \u003cth\u003enumber_radical_e\u003c/th\u003e\n      \u003ctd\u003e0.157217\u003c/td\u003e\n    \u003c/tr\u003e\n    \u003ctr\u003e\n      \u003cth\u003ehybridization_5\u003c/th\u003e\n      \u003ctd\u003e0.148312\u003c/td\u003e\n    \u003c/tr\u003e\n    \u003ctr\u003e\n      \u003cth\u003ehybridization_4\u003c/th\u003e\n      \u003ctd\u003e0.089851\u003c/td\u003e\n    \u003c/tr\u003e\n    \u003ctr\u003e\n      \u003cth\u003eis_in_ring\u003c/th\u003e\n      \u003ctd\u003e0.089656\u003c/td\u003e\n    \u003c/tr\u003e\n    \u003ctr\u003e\n      \u003cth\u003eis_aromatic\u003c/th\u003e\n      \u003ctd\u003e0.088324\u003c/td\u003e\n    \u003c/tr\u003e\n    \u003ctr\u003e\n      \u003cth\u003ehybridization_0\u003c/th\u003e\n      \u003ctd\u003e0.085188\u003c/td\u003e\n    \u003c/tr\u003e\n    \u003ctr\u003e\n      \u003cth\u003ehybridization_2\u003c/th\u003e\n      \u003ctd\u003e0.082042\u003c/td\u003e\n    \u003c/tr\u003e\n    \u003ctr\u003e\n      \u003cth\u003edegree\u003c/th\u003e\n      \u003ctd\u003e0.078771\u003c/td\u003e\n    \u003c/tr\u003e\n    \u003ctr\u003e\n      \u003cth\u003ehybridization_3\u003c/th\u003e\n      \u003ctd\u003e0.077907\u003c/td\u003e\n    \u003c/tr\u003e\n    \u003ctr\u003e\n      \u003cth\u003ehybridization_1\u003c/th\u003e\n      \u003ctd\u003e0.071799\u003c/td\u003e\n    \u003c/tr\u003e\n  \u003c/tbody\u003e\n\u003c/table\u003e\n\u003c/div\u003e"
          },
          "execution_count": 268
        }
      ]
    },
    {
      "execution_count": 270,
      "cell_type": "code",
      "metadata": {},
      "source": [
        "m \u003d Chem.MolFromSmiles(data.smiles)\ndisplay(m)\n\ng \u003d to_molecule(data)\nprint()\ndraw_molecule(g, edge_index \u003d edge_index.numpy(),\n              edge_mask\u003dedge_mask.numpy())"
      ],
      "outputs": [
        {
          "output_type": "display_data",
          "data": {
            "image/png": "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\u003d\u003d\n",
            "text/plain": "\u003crdkit.Chem.rdchem.Mol at 0x15d31c0d0\u003e"
          },
          "metadata": {}
        },
        {
          "output_type": "stream",
          "name": "stdout",
          "text": "\n"
        },
        {
          "output_type": "display_data",
          "data": {
            "image/png": "[encoded data removed]",
            "text/plain": "\u003cFigure size 432x288 with 1 Axes\u003e"
          },
          "metadata": {}
        }
      ]
    }
  ]
}